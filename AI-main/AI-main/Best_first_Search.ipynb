{
  "nbformat": 4,
  "nbformat_minor": 0,
  "metadata": {
    "colab": {
      "provenance": []
    },
    "kernelspec": {
      "name": "python3",
      "display_name": "Python 3"
    },
    "language_info": {
      "name": "python"
    }
  },
  "cells": [
    {
      "cell_type": "code",
      "execution_count": 3,
      "metadata": {
        "colab": {
          "base_uri": "https://localhost:8080/"
        },
        "id": "YyWsyjmw4iAe",
        "outputId": "f781637f-10f7-4400-a14a-d221e1798343"
      },
      "outputs": [
        {
          "output_type": "stream",
          "name": "stdout",
          "text": [
            "Path: ['A', 'C', 'F', 'H']\n"
          ]
        }
      ],
      "source": [
        "from queue import PriorityQueue\n",
        "\n",
        "def best_first_search(graph, start, goal):\n",
        "    frontier = PriorityQueue()  # Priority queue to store nodes to be explored\n",
        "    frontier.put(start, 0)  # Add the start node to the frontier with priority 0\n",
        "    came_from = {}  # Dictionary to store the parent node of each explored node\n",
        "    came_from[start] = None  # Start node has no parent\n",
        "\n",
        "    while not frontier.empty():\n",
        "        current = frontier.get()  # Get the node with the highest priority\n",
        "        if current == goal:\n",
        "            break  # Goal reached, terminate the search\n",
        "\n",
        "        for neighbor in graph[current]:\n",
        "            if neighbor not in came_from:\n",
        "                priority = heuristic(neighbor, goal)  # Calculate the priority using a heuristic function\n",
        "                frontier.put(neighbor, priority)  # Add neighbor to the frontier with priority\n",
        "\n",
        "                came_from[neighbor] = current  # Update the parent of the neighbor node\n",
        "\n",
        "    # Reconstruct the path from start to goal\n",
        "    path = []\n",
        "    node = goal\n",
        "    while node != start:\n",
        "        path.append(node)\n",
        "        node = came_from[node]\n",
        "    path.append(start)\n",
        "    path.reverse()\n",
        "    return path\n",
        "\n",
        "# Define a simple heuristic function\n",
        "def heuristic(node, goal):\n",
        "    # Assuming nodes are single characters\n",
        "    return 0  # For simplicity, let's assume all heuristic values are 0\n",
        "\n",
        "# Example graph represented as an adjacency list (without edge weights)\n",
        "graph = {\n",
        "    'A': ['B', 'C'],\n",
        "    'B': ['D', 'E'],\n",
        "    'C': ['F'],\n",
        "    'D': [],\n",
        "    'E': ['G'],\n",
        "    'F': ['H'],\n",
        "    'G': [],\n",
        "    'H': []\n",
        "}\n",
        "\n",
        "start_node = 'A'\n",
        "goal_node = 'H'\n",
        "\n",
        "path = best_first_search(graph, start_node, goal_node)\n",
        "print(\"Path:\", path)\n"
      ]
    },
    {
      "cell_type": "code",
      "source": [],
      "metadata": {
        "id": "WTwZC7_B4pdx"
      },
      "execution_count": null,
      "outputs": []
    }
  ]
}