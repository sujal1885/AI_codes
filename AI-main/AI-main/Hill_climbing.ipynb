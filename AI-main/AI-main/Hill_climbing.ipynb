{
  "nbformat": 4,
  "nbformat_minor": 0,
  "metadata": {
    "colab": {
      "provenance": []
    },
    "kernelspec": {
      "name": "python3",
      "display_name": "Python 3"
    },
    "language_info": {
      "name": "python"
    }
  },
  "cells": [
    {
      "cell_type": "code",
      "execution_count": 1,
      "metadata": {
        "colab": {
          "base_uri": "https://localhost:8080/"
        },
        "id": "n3AZrZB7rNEO",
        "outputId": "ae96aa5b-8ed5-4160-f96a-548c9a6aa156"
      },
      "outputs": [
        {
          "output_type": "stream",
          "name": "stdout",
          "text": [
            "Best solution: -6.334924467163634\n",
            "Objective function value at best solution: -40.13126800466845\n"
          ]
        }
      ],
      "source": [
        "import random\n",
        "\n",
        "def objective_function(x):\n",
        "    return -(x ** 2)\n",
        "\n",
        "# Define the Hill Climbing algorithm\n",
        "def hill_climbing(max_iterations, step_size, initial_solution):\n",
        "    current_solution = initial_solution\n",
        "    for _ in range(max_iterations):\n",
        "        # Generate a random neighbor within the step size\n",
        "        neighbor = current_solution + random.uniform(-step_size, step_size)\n",
        "\n",
        "        # Evaluate the objective function for current and neighbor solutions\n",
        "        current_value = objective_function(current_solution)\n",
        "        neighbor_value = objective_function(neighbor)\n",
        "\n",
        "        # If the neighbor has a higher value, move to it\n",
        "        if neighbor_value > current_value:\n",
        "            current_solution = neighbor\n",
        "        # Otherwise, return the current solution since it's a local maximum\n",
        "        else:\n",
        "            return current_solution\n",
        "\n",
        "    return current_solution\n",
        "\n",
        "# Set parameters for the Hill Climbing algorithm\n",
        "max_iterations = 1000\n",
        "step_size = 0.1\n",
        "initial_solution = random.uniform(-10, 10)\n",
        "\n",
        "# Run the Hill Climbing algorithm\n",
        "best_solution = hill_climbing(max_iterations, step_size, initial_solution)\n",
        "\n",
        "# Print the best solution found\n",
        "print(\"Best solution:\", best_solution)\n",
        "print(\"Objective function value at best solution:\", objective_function(best_solution))\n"
      ]
    },
    {
      "cell_type": "code",
      "source": [
        "import random\n",
        "import numpy as np\n",
        "import networkx as nx\n",
        "\n",
        "#coordinate of the points/cities\n",
        "coordinate = np.array([[1,2], [30,21], [56,23], [8,18], [20,50], [3,4], [11,6], [6,7], [15,20], [10,9], [12,12]])\n",
        "\n",
        "#adjacency matrix for a weighted graph based on the given coordinates\n",
        "def generate_matrix(coordinate):\n",
        "    matrix = []\n",
        "    for i in range(len(coordinate)):\n",
        "        for j in range(len(coordinate)) :\n",
        "            p = np.linalg.norm(coordinate[i] - coordinate[j])\n",
        "            matrix.append(p)\n",
        "    matrix = np.reshape(matrix, (len(coordinate),len(coordinate)))\n",
        "    #print(matrix)\n",
        "    return matrix\n",
        "\n",
        "#finds a random solution\n",
        "def solution(matrix):\n",
        "    points = list(range(0, len(matrix)))\n",
        "    solution = []\n",
        "    for i in range(0, len(matrix)):\n",
        "        random_point = points[random.randint(0, len(points) - 1)]\n",
        "        solution.append(random_point)\n",
        "        points.remove(random_point)\n",
        "    return solution\n",
        "\n",
        "\n",
        "#calculate the path based on the random solution\n",
        "def path_length(matrix, solution):\n",
        "    cycle_length = 0\n",
        "    for i in range(0, len(solution)):\n",
        "        cycle_length += matrix[solution[i]][solution[i - 1]]\n",
        "    return cycle_length\n",
        "\n",
        "#generate neighbors of the random solution by swapping cities and returns the best neighbor\n",
        "def neighbors(matrix, solution):\n",
        "    neighbors = []\n",
        "    for i in range(len(solution)):\n",
        "        for j in range(i + 1, len(solution)):\n",
        "            neighbor = solution.copy()\n",
        "            neighbor[i] = solution[j]\n",
        "            neighbor[j] = solution[i]\n",
        "            neighbors.append(neighbor)\n",
        "\n",
        "    #assume that the first neighbor in the list is the best neighbor\n",
        "    best_neighbor = neighbors[0]\n",
        "    best_path = path_length(matrix, best_neighbor)\n",
        "\n",
        "    #check if there is a better neighbor\n",
        "    for neighbor in neighbors:\n",
        "        current_path = path_length(matrix, neighbor)\n",
        "        if current_path < best_path:\n",
        "            best_path = current_path\n",
        "            best_neighbor = neighbor\n",
        "    return best_neighbor, best_path\n",
        "\n",
        "\n",
        "def hill_climbing(coordinate):\n",
        "    matrix = generate_matrix(coordinate)\n",
        "\n",
        "    current_solution = solution(matrix)\n",
        "    current_path = path_length(matrix, current_solution)\n",
        "    neighbor = neighbors(matrix,current_solution)[0]\n",
        "    best_neighbor, best_neighbor_path = neighbors(matrix, neighbor)\n",
        "\n",
        "    while best_neighbor_path < current_path:\n",
        "        current_solution = best_neighbor\n",
        "        current_path = best_neighbor_path\n",
        "        neighbor = neighbors(matrix, current_solution)[0]\n",
        "        best_neighbor, best_neighbor_path = neighbors(matrix, neighbor)\n",
        "\n",
        "    return current_path, current_solution\n",
        "final_solution = hill_climbing(coordinate)\n",
        "print(\"The solution is \\n\", final_solution[1])"
      ],
      "metadata": {
        "colab": {
          "base_uri": "https://localhost:8080/"
        },
        "id": "SiEdJFWtrgU3",
        "outputId": "6f244e4c-7fd9-41e3-99d0-68f430f2e2c8"
      },
      "execution_count": 3,
      "outputs": [
        {
          "output_type": "stream",
          "name": "stdout",
          "text": [
            "The solution is \n",
            " [4, 3, 7, 5, 0, 6, 9, 10, 8, 1, 2]\n"
          ]
        }
      ]
    }
  ]
}