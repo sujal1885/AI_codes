{
 "cells": [
  {
   "cell_type": "code",
   "execution_count": 1,
   "id": "fe9717ea",
   "metadata": {
    "_cell_guid": "b1076dfc-b9ad-4769-8c92-a6c4dae69d19",
    "_uuid": "8f2839f25d086af736a60e9eeb907d3b93b6e0e5",
    "execution": {
     "iopub.execute_input": "2023-12-05T11:32:01.888821Z",
     "iopub.status.busy": "2023-12-05T11:32:01.888147Z",
     "iopub.status.idle": "2023-12-05T11:32:01.906920Z",
     "shell.execute_reply": "2023-12-05T11:32:01.905914Z"
    },
    "papermill": {
     "duration": 0.049305,
     "end_time": "2023-12-05T11:32:01.910381",
     "exception": false,
     "start_time": "2023-12-05T11:32:01.861076",
     "status": "completed"
    },
    "tags": []
   },
   "outputs": [
    {
     "name": "stdout",
     "output_type": "stream",
     "text": [
      "/kaggle/input/play-tennis/play_tennis.csv\n"
     ]
    }
   ],
   "source": [
    "\n",
    "import numpy as np # linear algebra\n",
    "import pandas as pd # data processing, CSV file I/O (e.g. pd.read_csv)\n",
    "from numpy import log2 as log"
   ]
  },
  {
   "cell_type": "code",
   "execution_count": 2,
   "id": "66c403f1",
   "metadata": {
    "execution": {
     "iopub.execute_input": "2023-12-05T11:32:02.005976Z",
     "iopub.status.busy": "2023-12-05T11:32:02.005524Z",
     "iopub.status.idle": "2023-12-05T11:32:02.031523Z",
     "shell.execute_reply": "2023-12-05T11:32:02.030458Z"
    },
    "papermill": {
     "duration": 0.052812,
     "end_time": "2023-12-05T11:32:02.034198",
     "exception": false,
     "start_time": "2023-12-05T11:32:01.981386",
     "status": "completed"
    },
    "tags": []
   },
   "outputs": [],
   "source": [
    "df=pd.read_csv('/kaggle/input/play-tennis/play_tennis.csv')\n",
    "df = df.drop('day',axis=1)"
   ]
  },
  {
   "cell_type": "code",
   "execution_count": 3,
   "id": "2e69f028",
   "metadata": {
    "execution": {
     "iopub.execute_input": "2023-12-05T11:32:02.083355Z",
     "iopub.status.busy": "2023-12-05T11:32:02.082603Z",
     "iopub.status.idle": "2023-12-05T11:32:02.110803Z",
     "shell.execute_reply": "2023-12-05T11:32:02.109096Z"
    },
    "papermill": {
     "duration": 0.056126,
     "end_time": "2023-12-05T11:32:02.114232",
     "exception": false,
     "start_time": "2023-12-05T11:32:02.058106",
     "status": "completed"
    },
    "tags": []
   },
   "outputs": [
    {
     "data": {
      "text/html": [
       "<div>\n",
       "<style scoped>\n",
       "    .dataframe tbody tr th:only-of-type {\n",
       "        vertical-align: middle;\n",
       "    }\n",
       "\n",
       "    .dataframe tbody tr th {\n",
       "        vertical-align: top;\n",
       "    }\n",
       "\n",
       "    .dataframe thead th {\n",
       "        text-align: right;\n",
       "    }\n",
       "</style>\n",
       "<table border=\"1\" class=\"dataframe\">\n",
       "  <thead>\n",
       "    <tr style=\"text-align: right;\">\n",
       "      <th></th>\n",
       "      <th>outlook</th>\n",
       "      <th>temp</th>\n",
       "      <th>humidity</th>\n",
       "      <th>wind</th>\n",
       "      <th>play</th>\n",
       "    </tr>\n",
       "  </thead>\n",
       "  <tbody>\n",
       "    <tr>\n",
       "      <th>0</th>\n",
       "      <td>Sunny</td>\n",
       "      <td>Hot</td>\n",
       "      <td>High</td>\n",
       "      <td>Weak</td>\n",
       "      <td>No</td>\n",
       "    </tr>\n",
       "    <tr>\n",
       "      <th>1</th>\n",
       "      <td>Sunny</td>\n",
       "      <td>Hot</td>\n",
       "      <td>High</td>\n",
       "      <td>Strong</td>\n",
       "      <td>No</td>\n",
       "    </tr>\n",
       "    <tr>\n",
       "      <th>2</th>\n",
       "      <td>Overcast</td>\n",
       "      <td>Hot</td>\n",
       "      <td>High</td>\n",
       "      <td>Weak</td>\n",
       "      <td>Yes</td>\n",
       "    </tr>\n",
       "    <tr>\n",
       "      <th>3</th>\n",
       "      <td>Rain</td>\n",
       "      <td>Mild</td>\n",
       "      <td>High</td>\n",
       "      <td>Weak</td>\n",
       "      <td>Yes</td>\n",
       "    </tr>\n",
       "    <tr>\n",
       "      <th>4</th>\n",
       "      <td>Rain</td>\n",
       "      <td>Cool</td>\n",
       "      <td>Normal</td>\n",
       "      <td>Weak</td>\n",
       "      <td>Yes</td>\n",
       "    </tr>\n",
       "    <tr>\n",
       "      <th>5</th>\n",
       "      <td>Rain</td>\n",
       "      <td>Cool</td>\n",
       "      <td>Normal</td>\n",
       "      <td>Strong</td>\n",
       "      <td>No</td>\n",
       "    </tr>\n",
       "    <tr>\n",
       "      <th>6</th>\n",
       "      <td>Overcast</td>\n",
       "      <td>Cool</td>\n",
       "      <td>Normal</td>\n",
       "      <td>Strong</td>\n",
       "      <td>Yes</td>\n",
       "    </tr>\n",
       "    <tr>\n",
       "      <th>7</th>\n",
       "      <td>Sunny</td>\n",
       "      <td>Mild</td>\n",
       "      <td>High</td>\n",
       "      <td>Weak</td>\n",
       "      <td>No</td>\n",
       "    </tr>\n",
       "    <tr>\n",
       "      <th>8</th>\n",
       "      <td>Sunny</td>\n",
       "      <td>Cool</td>\n",
       "      <td>Normal</td>\n",
       "      <td>Weak</td>\n",
       "      <td>Yes</td>\n",
       "    </tr>\n",
       "    <tr>\n",
       "      <th>9</th>\n",
       "      <td>Rain</td>\n",
       "      <td>Mild</td>\n",
       "      <td>Normal</td>\n",
       "      <td>Weak</td>\n",
       "      <td>Yes</td>\n",
       "    </tr>\n",
       "    <tr>\n",
       "      <th>10</th>\n",
       "      <td>Sunny</td>\n",
       "      <td>Mild</td>\n",
       "      <td>Normal</td>\n",
       "      <td>Strong</td>\n",
       "      <td>Yes</td>\n",
       "    </tr>\n",
       "    <tr>\n",
       "      <th>11</th>\n",
       "      <td>Overcast</td>\n",
       "      <td>Mild</td>\n",
       "      <td>High</td>\n",
       "      <td>Strong</td>\n",
       "      <td>Yes</td>\n",
       "    </tr>\n",
       "    <tr>\n",
       "      <th>12</th>\n",
       "      <td>Overcast</td>\n",
       "      <td>Hot</td>\n",
       "      <td>Normal</td>\n",
       "      <td>Weak</td>\n",
       "      <td>Yes</td>\n",
       "    </tr>\n",
       "    <tr>\n",
       "      <th>13</th>\n",
       "      <td>Rain</td>\n",
       "      <td>Mild</td>\n",
       "      <td>High</td>\n",
       "      <td>Strong</td>\n",
       "      <td>No</td>\n",
       "    </tr>\n",
       "  </tbody>\n",
       "</table>\n",
       "</div>"
      ],
      "text/plain": [
       "     outlook  temp humidity    wind play\n",
       "0      Sunny   Hot     High    Weak   No\n",
       "1      Sunny   Hot     High  Strong   No\n",
       "2   Overcast   Hot     High    Weak  Yes\n",
       "3       Rain  Mild     High    Weak  Yes\n",
       "4       Rain  Cool   Normal    Weak  Yes\n",
       "5       Rain  Cool   Normal  Strong   No\n",
       "6   Overcast  Cool   Normal  Strong  Yes\n",
       "7      Sunny  Mild     High    Weak   No\n",
       "8      Sunny  Cool   Normal    Weak  Yes\n",
       "9       Rain  Mild   Normal    Weak  Yes\n",
       "10     Sunny  Mild   Normal  Strong  Yes\n",
       "11  Overcast  Mild     High  Strong  Yes\n",
       "12  Overcast   Hot   Normal    Weak  Yes\n",
       "13      Rain  Mild     High  Strong   No"
      ]
     },
     "execution_count": 3,
     "metadata": {},
     "output_type": "execute_result"
    }
   ],
   "source": [
    "df.head(14)"
   ]
  },
  {
   "cell_type": "code",
   "execution_count": 4,
   "id": "2790432e",
   "metadata": {
    "execution": {
     "iopub.execute_input": "2023-12-05T11:32:02.164511Z",
     "iopub.status.busy": "2023-12-05T11:32:02.164080Z",
     "iopub.status.idle": "2023-12-05T11:32:02.170193Z",
     "shell.execute_reply": "2023-12-05T11:32:02.168622Z"
    },
    "papermill": {
     "duration": 0.03466,
     "end_time": "2023-12-05T11:32:02.173823",
     "exception": false,
     "start_time": "2023-12-05T11:32:02.139163",
     "status": "completed"
    },
    "tags": []
   },
   "outputs": [
    {
     "name": "stdout",
     "output_type": "stream",
     "text": [
      "Rows: 14, Columns: 5\n"
     ]
    }
   ],
   "source": [
    "# look at the number of rows and columns\n",
    "print(f'Rows: {df.shape[0]}, Columns: {df.shape[1]}')"
   ]
  },
  {
   "cell_type": "code",
   "execution_count": 5,
   "id": "5742d02c",
   "metadata": {
    "execution": {
     "iopub.execute_input": "2023-12-05T11:32:02.223015Z",
     "iopub.status.busy": "2023-12-05T11:32:02.222595Z",
     "iopub.status.idle": "2023-12-05T11:32:02.228453Z",
     "shell.execute_reply": "2023-12-05T11:32:02.227223Z"
    },
    "papermill": {
     "duration": 0.033632,
     "end_time": "2023-12-05T11:32:02.231427",
     "exception": false,
     "start_time": "2023-12-05T11:32:02.197795",
     "status": "completed"
    },
    "tags": []
   },
   "outputs": [
    {
     "name": "stdout",
     "output_type": "stream",
     "text": [
      "Index(['outlook', 'temp', 'humidity', 'wind', 'play'], dtype='object')\n"
     ]
    }
   ],
   "source": [
    "# look at the columns\n",
    "print(df.columns)"
   ]
  },
  {
   "cell_type": "code",
   "execution_count": 6,
   "id": "81ee3277",
   "metadata": {
    "execution": {
     "iopub.execute_input": "2023-12-05T11:32:02.279761Z",
     "iopub.status.busy": "2023-12-05T11:32:02.279329Z",
     "iopub.status.idle": "2023-12-05T11:32:02.300360Z",
     "shell.execute_reply": "2023-12-05T11:32:02.298767Z"
    },
    "papermill": {
     "duration": 0.04867,
     "end_time": "2023-12-05T11:32:02.303106",
     "exception": false,
     "start_time": "2023-12-05T11:32:02.254436",
     "status": "completed"
    },
    "tags": []
   },
   "outputs": [
    {
     "name": "stdout",
     "output_type": "stream",
     "text": [
      "<class 'pandas.core.frame.DataFrame'>\n",
      "RangeIndex: 14 entries, 0 to 13\n",
      "Data columns (total 5 columns):\n",
      " #   Column    Non-Null Count  Dtype \n",
      "---  ------    --------------  ----- \n",
      " 0   outlook   14 non-null     object\n",
      " 1   temp      14 non-null     object\n",
      " 2   humidity  14 non-null     object\n",
      " 3   wind      14 non-null     object\n",
      " 4   play      14 non-null     object\n",
      "dtypes: object(5)\n",
      "memory usage: 688.0+ bytes\n"
     ]
    }
   ],
   "source": [
    "df.info()"
   ]
  },
  {
   "cell_type": "code",
   "execution_count": 7,
   "id": "b45b910b",
   "metadata": {
    "execution": {
     "iopub.execute_input": "2023-12-05T11:32:02.354016Z",
     "iopub.status.busy": "2023-12-05T11:32:02.353155Z",
     "iopub.status.idle": "2023-12-05T11:32:02.377060Z",
     "shell.execute_reply": "2023-12-05T11:32:02.375547Z"
    },
    "papermill": {
     "duration": 0.051075,
     "end_time": "2023-12-05T11:32:02.379951",
     "exception": false,
     "start_time": "2023-12-05T11:32:02.328876",
     "status": "completed"
    },
    "tags": []
   },
   "outputs": [
    {
     "data": {
      "text/html": [
       "<div>\n",
       "<style scoped>\n",
       "    .dataframe tbody tr th:only-of-type {\n",
       "        vertical-align: middle;\n",
       "    }\n",
       "\n",
       "    .dataframe tbody tr th {\n",
       "        vertical-align: top;\n",
       "    }\n",
       "\n",
       "    .dataframe thead th {\n",
       "        text-align: right;\n",
       "    }\n",
       "</style>\n",
       "<table border=\"1\" class=\"dataframe\">\n",
       "  <thead>\n",
       "    <tr style=\"text-align: right;\">\n",
       "      <th></th>\n",
       "      <th>outlook</th>\n",
       "      <th>temp</th>\n",
       "      <th>humidity</th>\n",
       "      <th>wind</th>\n",
       "      <th>play</th>\n",
       "    </tr>\n",
       "  </thead>\n",
       "  <tbody>\n",
       "    <tr>\n",
       "      <th>count</th>\n",
       "      <td>14</td>\n",
       "      <td>14</td>\n",
       "      <td>14</td>\n",
       "      <td>14</td>\n",
       "      <td>14</td>\n",
       "    </tr>\n",
       "    <tr>\n",
       "      <th>unique</th>\n",
       "      <td>3</td>\n",
       "      <td>3</td>\n",
       "      <td>2</td>\n",
       "      <td>2</td>\n",
       "      <td>2</td>\n",
       "    </tr>\n",
       "    <tr>\n",
       "      <th>top</th>\n",
       "      <td>Sunny</td>\n",
       "      <td>Mild</td>\n",
       "      <td>High</td>\n",
       "      <td>Weak</td>\n",
       "      <td>Yes</td>\n",
       "    </tr>\n",
       "    <tr>\n",
       "      <th>freq</th>\n",
       "      <td>5</td>\n",
       "      <td>6</td>\n",
       "      <td>7</td>\n",
       "      <td>8</td>\n",
       "      <td>9</td>\n",
       "    </tr>\n",
       "  </tbody>\n",
       "</table>\n",
       "</div>"
      ],
      "text/plain": [
       "       outlook  temp humidity  wind play\n",
       "count       14    14       14    14   14\n",
       "unique       3     3        2     2    2\n",
       "top      Sunny  Mild     High  Weak  Yes\n",
       "freq         5     6        7     8    9"
      ]
     },
     "execution_count": 7,
     "metadata": {},
     "output_type": "execute_result"
    }
   ],
   "source": [
    "df.describe()"
   ]
  },
  {
   "cell_type": "code",
   "execution_count": 8,
   "id": "5ef8e4bb",
   "metadata": {
    "execution": {
     "iopub.execute_input": "2023-12-05T11:32:02.959821Z",
     "iopub.status.busy": "2023-12-05T11:32:02.959347Z",
     "iopub.status.idle": "2023-12-05T11:32:02.967061Z",
     "shell.execute_reply": "2023-12-05T11:32:02.965484Z"
    },
    "papermill": {
     "duration": 0.038264,
     "end_time": "2023-12-05T11:32:02.970282",
     "exception": false,
     "start_time": "2023-12-05T11:32:02.932018",
     "status": "completed"
    },
    "tags": []
   },
   "outputs": [],
   "source": [
    "def find_entropy(df):\n",
    "    #target column\n",
    "    target = df.keys()[-1]\n",
    "    entropy = 0\n",
    "    values = df[target].unique()\n",
    "    #calc entropy\n",
    "    for value in values:\n",
    "        fraction = df[target].value_counts()[value]/len(df[target])\n",
    "        entropy += -fraction*np.log2(fraction)\n",
    "    return entropy"
   ]
  },
  {
   "cell_type": "code",
   "execution_count": 9,
   "id": "fed59ab3",
   "metadata": {
    "execution": {
     "iopub.execute_input": "2023-12-05T11:32:03.069982Z",
     "iopub.status.busy": "2023-12-05T11:32:03.069503Z",
     "iopub.status.idle": "2023-12-05T11:32:03.077708Z",
     "shell.execute_reply": "2023-12-05T11:32:03.076617Z"
    },
    "papermill": {
     "duration": 0.0367,
     "end_time": "2023-12-05T11:32:03.080454",
     "exception": false,
     "start_time": "2023-12-05T11:32:03.043754",
     "status": "completed"
    },
    "tags": []
   },
   "outputs": [],
   "source": [
    "def average_information(df,attribute):\n",
    "  target = df.keys()[-1]   #target column\n",
    "  target_variables = df[target].unique()  #This gives all 'Yes' and 'No'\n",
    "  variables = df[attribute].unique()    #This gives different features in that attribute (like 'Hot','Cold' in Temperature)\n",
    "  entropy2 = 0\n",
    "  for variable in variables:\n",
    "      entropy = 0\n",
    "      for target_variable in target_variables:\n",
    "          num = len(df[attribute][df[attribute]==variable][df[target] ==target_variable])\n",
    "          den = len(df[attribute][df[attribute]==variable])\n",
    "          fraction = num/(den+eps)\n",
    "          entropy += -fraction*log(fraction+eps)\n",
    "      fraction2 = den/len(df)\n",
    "      entropy2 += -fraction2*entropy\n",
    "  return abs(entropy2)"
   ]
  },
  {
   "cell_type": "code",
   "execution_count": 10,
   "id": "5eaae34d",
   "metadata": {
    "execution": {
     "iopub.execute_input": "2023-12-05T11:32:03.176588Z",
     "iopub.status.busy": "2023-12-05T11:32:03.176018Z",
     "iopub.status.idle": "2023-12-05T11:32:03.183225Z",
     "shell.execute_reply": "2023-12-05T11:32:03.181978Z"
    },
    "papermill": {
     "duration": 0.035568,
     "end_time": "2023-12-05T11:32:03.185781",
     "exception": false,
     "start_time": "2023-12-05T11:32:03.150213",
     "status": "completed"
    },
    "tags": []
   },
   "outputs": [],
   "source": [
    "def find_winner(df):\n",
    "    IG = []\n",
    "    for key in df.keys()[:-1]:\n",
    "        IG.append(find_entropy(df)-average_information(df,key))\n",
    "    return df.keys()[:-1][np.argmax(IG)]"
   ]
  },
  {
   "cell_type": "code",
   "execution_count": 11,
   "id": "bcaf0d3e",
   "metadata": {
    "execution": {
     "iopub.execute_input": "2023-12-05T11:32:03.238495Z",
     "iopub.status.busy": "2023-12-05T11:32:03.238071Z",
     "iopub.status.idle": "2023-12-05T11:32:03.243149Z",
     "shell.execute_reply": "2023-12-05T11:32:03.242221Z"
    },
    "papermill": {
     "duration": 0.035351,
     "end_time": "2023-12-05T11:32:03.245571",
     "exception": false,
     "start_time": "2023-12-05T11:32:03.210220",
     "status": "completed"
    },
    "tags": []
   },
   "outputs": [],
   "source": [
    "def get_subtable(df, node,value):\n",
    "  return df[df[node] == value].reset_index(drop=True)"
   ]
  },
  {
   "cell_type": "code",
   "execution_count": 12,
   "id": "a3db4386",
   "metadata": {
    "execution": {
     "iopub.execute_input": "2023-12-05T11:32:03.346036Z",
     "iopub.status.busy": "2023-12-05T11:32:03.345181Z",
     "iopub.status.idle": "2023-12-05T11:32:03.353440Z",
     "shell.execute_reply": "2023-12-05T11:32:03.352389Z"
    },
    "papermill": {
     "duration": 0.03993,
     "end_time": "2023-12-05T11:32:03.357465",
     "exception": false,
     "start_time": "2023-12-05T11:32:03.317535",
     "status": "completed"
    },
    "tags": []
   },
   "outputs": [],
   "source": [
    "def buildTree(df,tree=None): \n",
    "    target = df.keys()[-1]   #target column\n",
    "    \n",
    "    #Here we build our decision tree\n",
    "\n",
    "    #Get attribute with maximum information gain\n",
    "    node = find_winner(df)\n",
    "    \n",
    "    #Get distinct value of that attribute e.g Salary is node and Low,Med and High are values\n",
    "    attValue = np.unique(df[node])\n",
    "    \n",
    "    #Create an empty dictionary to create tree    \n",
    "    if tree is None:                    \n",
    "        tree={}\n",
    "        tree[node] = {}\n",
    "    \n",
    "    #We make loop to construct a tree by calling this function recursively. \n",
    "    #In this we check if the subset is pure and stops if it is pure. \n",
    "\n",
    "    for value in attValue:\n",
    "        \n",
    "        subtable = get_subtable(df,node,value)\n",
    "        clValue,counts = np.unique(subtable[target],return_counts=True)                        \n",
    "        \n",
    "        if len(counts)==1:#Checking purity of subset\n",
    "            tree[node][value] = clValue[0]                                                    \n",
    "        else:        \n",
    "            tree[node][value] = buildTree(subtable) #Calling the function recursively \n",
    "                   \n",
    "    return tree"
   ]
  },
  {
   "cell_type": "code",
   "execution_count": 13,
   "id": "56c8228b",
   "metadata": {
    "execution": {
     "iopub.execute_input": "2023-12-05T11:32:03.410480Z",
     "iopub.status.busy": "2023-12-05T11:32:03.410073Z",
     "iopub.status.idle": "2023-12-05T11:32:03.495067Z",
     "shell.execute_reply": "2023-12-05T11:32:03.493891Z"
    },
    "papermill": {
     "duration": 0.114272,
     "end_time": "2023-12-05T11:32:03.497978",
     "exception": false,
     "start_time": "2023-12-05T11:32:03.383706",
     "status": "completed"
    },
    "tags": []
   },
   "outputs": [],
   "source": [
    "tree = buildTree(df)"
   ]
  },
  {
   "cell_type": "code",
   "execution_count": 14,
   "id": "49f7698f",
   "metadata": {
    "execution": {
     "iopub.execute_input": "2023-12-05T11:32:03.551945Z",
     "iopub.status.busy": "2023-12-05T11:32:03.551436Z",
     "iopub.status.idle": "2023-12-05T11:32:03.557710Z",
     "shell.execute_reply": "2023-12-05T11:32:03.556422Z"
    },
    "papermill": {
     "duration": 0.037588,
     "end_time": "2023-12-05T11:32:03.560969",
     "exception": false,
     "start_time": "2023-12-05T11:32:03.523381",
     "status": "completed"
    },
    "tags": []
   },
   "outputs": [
    {
     "name": "stdout",
     "output_type": "stream",
     "text": [
      "{'outlook': {'Overcast': 'Yes',\n",
      "             'Rain': {'wind': {'Strong': 'No', 'Weak': 'Yes'}},\n",
      "             'Sunny': {'humidity': {'High': 'No', 'Normal': 'Yes'}}}}\n"
     ]
    }
   ],
   "source": [
    "import pprint\n",
    "pprint.pprint(tree)"
   ]
  }
 ],
 "metadata": {
  "kaggle": {
   "accelerator": "none",
   "dataSources": [
    {
     "datasetId": 89775,
     "sourceId": 207354,
     "sourceType": "datasetVersion"
    }
   ],
   "dockerImageVersionId": 30407,
   "isGpuEnabled": false,
   "isInternetEnabled": true,
   "language": "python",
   "sourceType": "notebook"
  },
  "kernelspec": {
   "display_name": "Python 3 (ipykernel)",
   "language": "python",
   "name": "python3"
  },
  "language_info": {
   "codemirror_mode": {
    "name": "ipython",
    "version": 3
   },
   "file_extension": ".py",
   "mimetype": "text/x-python",
   "name": "python",
   "nbconvert_exporter": "python",
   "pygments_lexer": "ipython3",
   "version": "3.11.4"
  },
  "papermill": {
   "default_parameters": {},
   "duration": 14.873947,
   "end_time": "2023-12-05T11:32:04.360452",
   "environment_variables": {},
   "exception": null,
   "input_path": "__notebook__.ipynb",
   "output_path": "__notebook__.ipynb",
   "parameters": {},
   "start_time": "2023-12-05T11:31:49.486505",
   "version": "2.4.0"
  }
 },
 "nbformat": 4,
 "nbformat_minor": 5
}
