{
  "nbformat": 4,
  "nbformat_minor": 0,
  "metadata": {
    "colab": {
      "provenance": []
    },
    "kernelspec": {
      "name": "python3",
      "display_name": "Python 3"
    },
    "language_info": {
      "name": "python"
    }
  },
  "cells": [
    {
      "cell_type": "code",
      "execution_count": 1,
      "metadata": {
        "colab": {
          "base_uri": "https://localhost:8080/"
        },
        "id": "ERMFnWSwqovt",
        "outputId": "007fc7b0-32c8-45e4-f12f-6c671d4e6249"
      },
      "outputs": [
        {
          "output_type": "stream",
          "name": "stdout",
          "text": [
            "\n",
            "Performing Iterative Deepening DFS from 2 to 3 with maximum depth 3:\n",
            "\n",
            "Depth Limit: 0\n",
            "Visited Node: 2 at depth: 0\n",
            "\n",
            "Depth Limit: 1\n",
            "Visited Node: 2 at depth: 0\n",
            "Visited Node: 3 at depth: 1\n",
            "\n",
            "Target node 3 found!\n"
          ]
        }
      ],
      "source": [
        "from collections import defaultdict\n",
        "\n",
        "class Graph:\n",
        "    def __init__(self):\n",
        "        self.graph = defaultdict(list)\n",
        "\n",
        "    def add_edge(self, u, v):\n",
        "        self.graph[u].append(v)\n",
        "\n",
        "    def dfs(self, start, target, max_depth):\n",
        "        visited = set()\n",
        "        stack = [(start, 0)]\n",
        "\n",
        "        while stack:\n",
        "            node, depth = stack.pop()\n",
        "            visited.add(node)\n",
        "\n",
        "            if depth > max_depth:\n",
        "                continue\n",
        "\n",
        "            print(f\"Visited Node: {node} at depth: {depth}\")\n",
        "\n",
        "            if node == target:\n",
        "                return True\n",
        "\n",
        "            if depth < max_depth:\n",
        "                for neighbor in self.graph[node]:\n",
        "                    if neighbor not in visited:\n",
        "                        stack.append((neighbor, depth + 1))\n",
        "\n",
        "        return False\n",
        "\n",
        "    def iterative_deepening_dfs(self, start, target, max_depth):\n",
        "        for depth_limit in range(max_depth + 1):\n",
        "            print(f\"\\nDepth Limit: {depth_limit}\")\n",
        "            if self.dfs(start, target, depth_limit):\n",
        "                return True\n",
        "        return False\n",
        "\n",
        "# Example usage:\n",
        "# Creating a graph\n",
        "g = Graph()\n",
        "g.add_edge(0, 1)\n",
        "g.add_edge(0, 2)\n",
        "g.add_edge(1, 2)\n",
        "g.add_edge(2, 0)\n",
        "g.add_edge(2, 3)\n",
        "g.add_edge(3, 3)\n",
        "\n",
        "start_node = 2\n",
        "target_node = 3\n",
        "max_depth = 3\n",
        "\n",
        "print(f\"\\nPerforming Iterative Deepening DFS from {start_node} to {target_node} with maximum depth {max_depth}:\")\n",
        "if g.iterative_deepening_dfs(start_node, target_node, max_depth):\n",
        "    print(f\"\\nTarget node {target_node} found!\")\n",
        "else:\n",
        "    print(f\"\\nTarget node {target_node} not found within depth limit {max_depth}.\")\n"
      ]
    }
  ]
}