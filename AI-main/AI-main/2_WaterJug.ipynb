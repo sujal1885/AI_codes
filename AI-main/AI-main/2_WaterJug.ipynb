{
  "nbformat": 4,
  "nbformat_minor": 0,
  "metadata": {
    "colab": {
      "provenance": []
    },
    "kernelspec": {
      "name": "python3",
      "display_name": "Python 3"
    },
    "language_info": {
      "name": "python"
    }
  },
  "cells": [
    {
      "cell_type": "code",
      "execution_count": 3,
      "metadata": {
        "colab": {
          "base_uri": "https://localhost:8080/"
        },
        "id": "TZdv7QDvg8sq",
        "outputId": "c2d023a3-2a9c-4b00-c03c-e8c45587e259"
      },
      "outputs": [
        {
          "output_type": "stream",
          "name": "stdout",
          "text": [
            "5\n",
            "3\n",
            "4\n",
            "[0, 0]\n",
            "Filling Water\n",
            "[5, 0]\n",
            "Transferring Water\n",
            "[2, 3]\n",
            "Emptying Water\n",
            "[2, 0]\n",
            "Transferring Water\n",
            "[0, 2]\n",
            "Filling Water\n",
            "[5, 2]\n",
            "Transferring Water\n",
            "[4, 3] Solution Found\n"
          ]
        }
      ],
      "source": [
        "cap_a = int(input())\n",
        "cap_b = int(input())\n",
        "target = int(input())\n",
        "first, second = 0, 0\n",
        "states = [first, second]\n",
        "if(cap_a < target and cap_b < target):\n",
        "        print(\"solution not possible\")\n",
        "else:\n",
        "    for i in range(1):\n",
        "        while first != target and second != target:\n",
        "            states = [first, second]\n",
        "            print (states)\n",
        "            if second < cap_b:\n",
        "                if first != 0:\n",
        "                    if second+first <= cap_b:\n",
        "                        second += first\n",
        "                        first = 0\n",
        "                        print(\"Transferring Water\")\n",
        "                    else:\n",
        "                        n = first+second-cap_b\n",
        "                        second = cap_b\n",
        "                        first = n\n",
        "                        print(\"Transferring Water\")\n",
        "                else:\n",
        "                    first = cap_a\n",
        "                    print(\"Filling Water\")\n",
        "            else:\n",
        "                second = 0\n",
        "                print(\"Emptying Water\")\n",
        "\n",
        "        print([first, second], \"Solution Found\")"
      ]
    }
  ]
}