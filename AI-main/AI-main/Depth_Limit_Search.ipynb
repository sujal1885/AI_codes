{
  "nbformat": 4,
  "nbformat_minor": 0,
  "metadata": {
    "colab": {
      "provenance": []
    },
    "kernelspec": {
      "name": "python3",
      "display_name": "Python 3"
    },
    "language_info": {
      "name": "python"
    }
  },
  "cells": [
    {
      "cell_type": "code",
      "execution_count": 1,
      "metadata": {
        "colab": {
          "base_uri": "https://localhost:8080/"
        },
        "id": "_DM_1ltl0M_0",
        "outputId": "3fab81de-136c-4a9e-a894-24c9e1fccff5"
      },
      "outputs": [
        {
          "output_type": "stream",
          "name": "stdout",
          "text": [
            "Performing Depth-Limited Search from 2 to 3 with maximum depth 2:\n",
            "Target node 3 found within depth limit.\n"
          ]
        }
      ],
      "source": [
        "from collections import defaultdict\n",
        "\n",
        "class Graph:\n",
        "    def __init__(self):\n",
        "        self.graph = defaultdict(list)\n",
        "\n",
        "    def add_edge(self, u, v):\n",
        "        self.graph[u].append(v)\n",
        "\n",
        "    def dls(self, start, target, max_depth):\n",
        "        visited = set()\n",
        "\n",
        "        def dfs(node, depth):\n",
        "            if depth > max_depth:\n",
        "                return False\n",
        "            if node == target:\n",
        "                return True\n",
        "            if node in visited:\n",
        "                return False\n",
        "\n",
        "            visited.add(node)\n",
        "            for neighbor in self.graph[node]:\n",
        "                if dfs(neighbor, depth + 1):\n",
        "                    return True\n",
        "            return False\n",
        "\n",
        "        return dfs(start, 0)\n",
        "\n",
        "# Example usage:\n",
        "# Creating a graph\n",
        "g = Graph()\n",
        "g.add_edge(0, 1)\n",
        "g.add_edge(0, 2)\n",
        "g.add_edge(1, 2)\n",
        "g.add_edge(2, 0)\n",
        "g.add_edge(2, 3)\n",
        "g.add_edge(3, 3)\n",
        "\n",
        "start_node = 2\n",
        "target_node = 3\n",
        "max_depth = 2\n",
        "\n",
        "print(f\"Performing Depth-Limited Search from {start_node} to {target_node} with maximum depth {max_depth}:\")\n",
        "if g.dls(start_node, target_node, max_depth):\n",
        "    print(f\"Target node {target_node} found within depth limit.\")\n",
        "else:\n",
        "    print(f\"Target node {target_node} not found within depth limit.\")\n"
      ]
    }
  ]
}