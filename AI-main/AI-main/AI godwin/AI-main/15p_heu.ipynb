{
  "nbformat": 4,
  "nbformat_minor": 0,
  "metadata": {
    "colab": {
      "provenance": []
    },
    "kernelspec": {
      "name": "python3",
      "display_name": "Python 3"
    },
    "language_info": {
      "name": "python"
    }
  },
  "cells": [
    {
      "cell_type": "code",
      "source": [
        "from queue import PriorityQueue\n",
        "import numpy as np"
      ],
      "metadata": {
        "id": "PFYzGdbgW-z6"
      },
      "execution_count": 1,
      "outputs": []
    },
    {
      "cell_type": "code",
      "execution_count": 2,
      "metadata": {
        "id": "maupCzLbQprp"
      },
      "outputs": [],
      "source": [
        "def print_puzzle(state): #Prints puzzle state\n",
        "  for row in state:\n",
        "    print(row)\n",
        "  print()\n",
        "\n",
        "def find0(state): #Finds empty location in the puzzle\n",
        "  for i in range(4):\n",
        "    for j in range(4):\n",
        "      if state[i][j] == 0:\n",
        "        return i,j\n",
        "\n",
        "def generate_new_state(state,move): #Generates new state according to the operator applied on the current state\n",
        "  i,j = find0(state)\n",
        "  new_state = [row.copy() for row in state]\n",
        "  new_state[i][j], new_state[move[0]][move[1]] = new_state[move[0]][move[1]], new_state[i][j]\n",
        "  return new_state\n",
        "\n",
        "\n",
        "def possible_moves(state): #Finds all possible moves for a given state\n",
        "  moves = []\n",
        "  i,j = find0(state)\n",
        "\n",
        "  if j > 0:\n",
        "    moves.append((i, j - 1))\n",
        "  if j < 3:\n",
        "    moves.append((i, j + 1))\n",
        "  if i > 0:\n",
        "    moves.append((i - 1, j))\n",
        "  if i < 3:\n",
        "    moves.append((i + 1, j))\n",
        "\n",
        "  return moves"
      ]
    },
    {
      "cell_type": "code",
      "source": [
        "goal = np.array([[1,2,3,4],[5,6,7,8],[9,10,11,12],[13,14,15,0]])\n",
        "print(np.argwhere(goal == 5))"
      ],
      "metadata": {
        "colab": {
          "base_uri": "https://localhost:8080/"
        },
        "id": "QLKfc7kwcvx-",
        "outputId": "3835c050-c088-4f9a-a4ff-32c55b379bdd"
      },
      "execution_count": 3,
      "outputs": [
        {
          "output_type": "stream",
          "name": "stdout",
          "text": [
            "[[1 0]]\n"
          ]
        }
      ]
    },
    {
      "cell_type": "markdown",
      "source": [
        "###Heuristic Function - Number of misplaced tiles\n",
        "\n"
      ],
      "metadata": {
        "id": "7KA2x-hLuGKQ"
      }
    },
    {
      "cell_type": "code",
      "source": [
        "def compareH1(state): #FInds number of misplaced tiles in the 15 puzzle\n",
        "  goal = [[1,2,3,4],[5,6,7,8],[9,10,11,12],[13,14,15,0]]\n",
        "  misplace = 0\n",
        "\n",
        "  for i in range(4):\n",
        "    for j in range(4):\n",
        "      if state[i][j] != 0:\n",
        "        if state[i][j] != goal[i][j]:\n",
        "          misplace += 1\n",
        "  return misplace\n",
        "\n",
        "\n",
        "s = [[1,2,3,4],[5,6,7,8],[10,0,11,12],[9,13,14,15]]\n",
        "print(compareH1(s))"
      ],
      "metadata": {
        "colab": {
          "base_uri": "https://localhost:8080/"
        },
        "id": "5iT44BYYlYg6",
        "outputId": "e451199a-d735-42e7-9e1f-a50cd0b03c2b"
      },
      "execution_count": 4,
      "outputs": [
        {
          "output_type": "stream",
          "name": "stdout",
          "text": [
            "5\n"
          ]
        }
      ]
    },
    {
      "cell_type": "code",
      "source": [
        "def aStarH1(initial_state):\n",
        "  open = PriorityQueue()\n",
        "  explored = []\n",
        "  count = 0\n",
        "\n",
        "  open.put((compareH1(initial_state), 0, initial_state, []))\n",
        "\n",
        "  goal = [[1,2,3,4],[5,6,7,8],[9,10,11,12],[13,14,15,0]]\n",
        "\n",
        "  while not open.empty():\n",
        "    f, level, current, path = open.get()\n",
        "    #print(f\"Level: {level}, f(n): {f}, :\")\n",
        "    #print_puzzle(current)\n",
        "\n",
        "    if current == goal:\n",
        "      print(\"Goal state reached\")\n",
        "      print(f'Total levels = {level}')\n",
        "      print(f'Total states generated = {count}')\n",
        "      print(\"Number of moves = \",len(path))\n",
        "      for state in path: #Prints the final path taken to reach the goal node\n",
        "        print_puzzle(state)\n",
        "      return\n",
        "\n",
        "    explored.append((current))\n",
        "\n",
        "    for move in possible_moves(current):\n",
        "      count += 1\n",
        "      newState = generate_new_state(current,move)\n",
        "      if (newState) not in explored:\n",
        "        open.put((compareH1(newState) + level + 1, level + 1, newState, path + [newState]))\n",
        "\n",
        "  print(\"Goal not reached\")\n",
        "\n"
      ],
      "metadata": {
        "id": "QQKxs0AIuTsf"
      },
      "execution_count": 5,
      "outputs": []
    },
    {
      "cell_type": "code",
      "source": [
        "state = [[1, 3, 2, 4],[5, 6, 8, 7],[9, 0, 11, 12],[13, 10, 14, 15]]\n",
        "aStarH1(state)"
      ],
      "metadata": {
        "colab": {
          "base_uri": "https://localhost:8080/"
        },
        "id": "SLEvBB4OuWu1",
        "outputId": "01ca297a-e6f9-4775-fa4f-093b5df00fa0"
      },
      "execution_count": 6,
      "outputs": [
        {
          "output_type": "stream",
          "name": "stdout",
          "text": [
            "Goal state reached\n",
            "Total levels = 19\n",
            "Total states generated = 20082\n",
            "Number of moves =  19\n",
            "[1, 3, 2, 4]\n",
            "[5, 0, 8, 7]\n",
            "[9, 6, 11, 12]\n",
            "[13, 10, 14, 15]\n",
            "\n",
            "[1, 0, 2, 4]\n",
            "[5, 3, 8, 7]\n",
            "[9, 6, 11, 12]\n",
            "[13, 10, 14, 15]\n",
            "\n",
            "[1, 2, 0, 4]\n",
            "[5, 3, 8, 7]\n",
            "[9, 6, 11, 12]\n",
            "[13, 10, 14, 15]\n",
            "\n",
            "[1, 2, 4, 0]\n",
            "[5, 3, 8, 7]\n",
            "[9, 6, 11, 12]\n",
            "[13, 10, 14, 15]\n",
            "\n",
            "[1, 2, 4, 7]\n",
            "[5, 3, 8, 0]\n",
            "[9, 6, 11, 12]\n",
            "[13, 10, 14, 15]\n",
            "\n",
            "[1, 2, 4, 7]\n",
            "[5, 3, 0, 8]\n",
            "[9, 6, 11, 12]\n",
            "[13, 10, 14, 15]\n",
            "\n",
            "[1, 2, 4, 7]\n",
            "[5, 0, 3, 8]\n",
            "[9, 6, 11, 12]\n",
            "[13, 10, 14, 15]\n",
            "\n",
            "[1, 2, 4, 7]\n",
            "[5, 6, 3, 8]\n",
            "[9, 0, 11, 12]\n",
            "[13, 10, 14, 15]\n",
            "\n",
            "[1, 2, 4, 7]\n",
            "[5, 6, 3, 8]\n",
            "[9, 10, 11, 12]\n",
            "[13, 0, 14, 15]\n",
            "\n",
            "[1, 2, 4, 7]\n",
            "[5, 6, 3, 8]\n",
            "[9, 10, 11, 12]\n",
            "[13, 14, 0, 15]\n",
            "\n",
            "[1, 2, 4, 7]\n",
            "[5, 6, 3, 8]\n",
            "[9, 10, 11, 12]\n",
            "[13, 14, 15, 0]\n",
            "\n",
            "[1, 2, 4, 7]\n",
            "[5, 6, 3, 8]\n",
            "[9, 10, 11, 0]\n",
            "[13, 14, 15, 12]\n",
            "\n",
            "[1, 2, 4, 7]\n",
            "[5, 6, 3, 0]\n",
            "[9, 10, 11, 8]\n",
            "[13, 14, 15, 12]\n",
            "\n",
            "[1, 2, 4, 0]\n",
            "[5, 6, 3, 7]\n",
            "[9, 10, 11, 8]\n",
            "[13, 14, 15, 12]\n",
            "\n",
            "[1, 2, 0, 4]\n",
            "[5, 6, 3, 7]\n",
            "[9, 10, 11, 8]\n",
            "[13, 14, 15, 12]\n",
            "\n",
            "[1, 2, 3, 4]\n",
            "[5, 6, 0, 7]\n",
            "[9, 10, 11, 8]\n",
            "[13, 14, 15, 12]\n",
            "\n",
            "[1, 2, 3, 4]\n",
            "[5, 6, 7, 0]\n",
            "[9, 10, 11, 8]\n",
            "[13, 14, 15, 12]\n",
            "\n",
            "[1, 2, 3, 4]\n",
            "[5, 6, 7, 8]\n",
            "[9, 10, 11, 0]\n",
            "[13, 14, 15, 12]\n",
            "\n",
            "[1, 2, 3, 4]\n",
            "[5, 6, 7, 8]\n",
            "[9, 10, 11, 12]\n",
            "[13, 14, 15, 0]\n",
            "\n"
          ]
        }
      ]
    },
    {
      "cell_type": "markdown",
      "source": [
        "###Heuristic Function - Manhattan Sum\n"
      ],
      "metadata": {
        "id": "7kHoTM3GudZl"
      }
    },
    {
      "cell_type": "code",
      "source": [
        "#def findI(current):\n",
        "#  goal = [[1,2,3],[4,5,6],[7,8,0]]\n",
        "#  for i in range(3):\n",
        "#    for j in range(3):\n",
        "#      if current == goal[i][j]:\n",
        "#        return i,j\n",
        "\n",
        "\n",
        "def manhattanSumH2(state): #Finds the sum of mahattan distance of all tiles comparing with the goal node\n",
        "  sum = 0\n",
        "  goal = np.array([[1,2,3,4],[5,6,7,8],[9,10,11,12],[13,14,15,0]])\n",
        "  for i in range(4):\n",
        "    for j in range(4):\n",
        "      if state[i][j] != 0:\n",
        "        x = np.argwhere(goal == state[i][j])\n",
        "        sum += abs(i - x[0][0]) + abs(j - x[0][1])\n",
        "\n",
        "  return sum\n",
        "\n",
        "s = [[1,2,3,4],[5,0,7,8],[10,6,11,12],[9,13,14,15]]\n",
        "print(manhattanSumH2(s))"
      ],
      "metadata": {
        "colab": {
          "base_uri": "https://localhost:8080/"
        },
        "id": "Pm_r9DZRX8Yg",
        "outputId": "3c18121f-8795-40ac-99d0-111004eee392"
      },
      "execution_count": 7,
      "outputs": [
        {
          "output_type": "stream",
          "name": "stdout",
          "text": [
            "6\n"
          ]
        }
      ]
    },
    {
      "cell_type": "code",
      "source": [
        "def aStarH2(initial_state):\n",
        "  open = PriorityQueue()\n",
        "  explored = []\n",
        "  count = 0\n",
        "\n",
        "  open.put((manhattanSumH2(initial_state), 0, initial_state, []))\n",
        "\n",
        "  goal = [[1,2,3,4],[5,6,7,8],[9,10,11,12],[13,14,15,0]]\n",
        "\n",
        "  while not open.empty():\n",
        "    f, level, current, path = open.get()\n",
        "    #print(f\"Level: {level}, f(n): {f}, :\")\n",
        "    #print_puzzle(current)\n",
        "\n",
        "    if current == goal:\n",
        "      print(\"Goal state reached\")\n",
        "      print(f'Total levels = {level}')\n",
        "      print(f'Total states generated = {count}')\n",
        "      print(\"Number of moves = \",len(path))\n",
        "      for state in path: #Prints the final path taken to reach the goal node\n",
        "        print_puzzle(state)\n",
        "      return\n",
        "\n",
        "    explored.append((current))\n",
        "\n",
        "    for move in possible_moves(current):\n",
        "      count += 1\n",
        "      newState = generate_new_state(current,move)\n",
        "      if (newState) not in explored:\n",
        "        open.put((manhattanSumH2(newState) + level + 1, level + 1, newState, path + [newState]))\n",
        "\n",
        "  print(\"Goal not reached\")\n",
        "\n"
      ],
      "metadata": {
        "id": "JWozyU5XTXBo"
      },
      "execution_count": 8,
      "outputs": []
    },
    {
      "cell_type": "code",
      "source": [
        "state = [[1, 3, 2, 4],[5, 6, 8, 7],[9, 0, 11, 12],[13, 10, 14, 15]]\n",
        "aStarH2(state)"
      ],
      "metadata": {
        "colab": {
          "base_uri": "https://localhost:8080/"
        },
        "id": "1I-tnY93rt5M",
        "outputId": "81e2f257-92cd-480c-9abb-e6418ce50a9a"
      },
      "execution_count": 9,
      "outputs": [
        {
          "output_type": "stream",
          "name": "stdout",
          "text": [
            "Goal state reached\n",
            "Total levels = 19\n",
            "Total states generated = 5837\n",
            "Number of moves =  19\n",
            "[1, 3, 2, 4]\n",
            "[5, 0, 8, 7]\n",
            "[9, 6, 11, 12]\n",
            "[13, 10, 14, 15]\n",
            "\n",
            "[1, 0, 2, 4]\n",
            "[5, 3, 8, 7]\n",
            "[9, 6, 11, 12]\n",
            "[13, 10, 14, 15]\n",
            "\n",
            "[1, 2, 0, 4]\n",
            "[5, 3, 8, 7]\n",
            "[9, 6, 11, 12]\n",
            "[13, 10, 14, 15]\n",
            "\n",
            "[1, 2, 4, 0]\n",
            "[5, 3, 8, 7]\n",
            "[9, 6, 11, 12]\n",
            "[13, 10, 14, 15]\n",
            "\n",
            "[1, 2, 4, 7]\n",
            "[5, 3, 8, 0]\n",
            "[9, 6, 11, 12]\n",
            "[13, 10, 14, 15]\n",
            "\n",
            "[1, 2, 4, 7]\n",
            "[5, 3, 0, 8]\n",
            "[9, 6, 11, 12]\n",
            "[13, 10, 14, 15]\n",
            "\n",
            "[1, 2, 4, 7]\n",
            "[5, 0, 3, 8]\n",
            "[9, 6, 11, 12]\n",
            "[13, 10, 14, 15]\n",
            "\n",
            "[1, 2, 4, 7]\n",
            "[5, 6, 3, 8]\n",
            "[9, 0, 11, 12]\n",
            "[13, 10, 14, 15]\n",
            "\n",
            "[1, 2, 4, 7]\n",
            "[5, 6, 3, 8]\n",
            "[9, 10, 11, 12]\n",
            "[13, 0, 14, 15]\n",
            "\n",
            "[1, 2, 4, 7]\n",
            "[5, 6, 3, 8]\n",
            "[9, 10, 11, 12]\n",
            "[13, 14, 0, 15]\n",
            "\n",
            "[1, 2, 4, 7]\n",
            "[5, 6, 3, 8]\n",
            "[9, 10, 11, 12]\n",
            "[13, 14, 15, 0]\n",
            "\n",
            "[1, 2, 4, 7]\n",
            "[5, 6, 3, 8]\n",
            "[9, 10, 11, 0]\n",
            "[13, 14, 15, 12]\n",
            "\n",
            "[1, 2, 4, 7]\n",
            "[5, 6, 3, 0]\n",
            "[9, 10, 11, 8]\n",
            "[13, 14, 15, 12]\n",
            "\n",
            "[1, 2, 4, 0]\n",
            "[5, 6, 3, 7]\n",
            "[9, 10, 11, 8]\n",
            "[13, 14, 15, 12]\n",
            "\n",
            "[1, 2, 0, 4]\n",
            "[5, 6, 3, 7]\n",
            "[9, 10, 11, 8]\n",
            "[13, 14, 15, 12]\n",
            "\n",
            "[1, 2, 3, 4]\n",
            "[5, 6, 0, 7]\n",
            "[9, 10, 11, 8]\n",
            "[13, 14, 15, 12]\n",
            "\n",
            "[1, 2, 3, 4]\n",
            "[5, 6, 7, 0]\n",
            "[9, 10, 11, 8]\n",
            "[13, 14, 15, 12]\n",
            "\n",
            "[1, 2, 3, 4]\n",
            "[5, 6, 7, 8]\n",
            "[9, 10, 11, 0]\n",
            "[13, 14, 15, 12]\n",
            "\n",
            "[1, 2, 3, 4]\n",
            "[5, 6, 7, 8]\n",
            "[9, 10, 11, 12]\n",
            "[13, 14, 15, 0]\n",
            "\n"
          ]
        }
      ]
    },
    {
      "cell_type": "markdown",
      "source": [
        "###Analysis"
      ],
      "metadata": {
        "id": "CpL8v2a9vlc0"
      }
    },
    {
      "cell_type": "code",
      "source": [
        "import pandas as pd\n",
        "s8 = [[6,4,2],[5,0,1],[8,7,3]]\n",
        "print('Initial state of 8Puzzle:')\n",
        "print_puzzle(s8)\n",
        "\n",
        "s15 = [[1, 3, 2, 4],[5, 6, 8, 7],[9, 0, 11, 12],[13, 10, 14, 15]]\n",
        "print('Initial State of 15Puzzle:')\n",
        "print_puzzle(s15)\n",
        "\n",
        "puzzle = {'BFS':[116099,'>185065'], 'aStarH1':[12611,20082],'aStarH2':[1595,5837]}\n",
        "df = pd.DataFrame(puzzle, index = ['8Puzzle', '15Puzzle'])\n",
        "print(df)\n"
      ],
      "metadata": {
        "id": "T6QQ41IqrxaK",
        "colab": {
          "base_uri": "https://localhost:8080/"
        },
        "outputId": "f0174106-f188-4817-a9cd-0ba90b4410f9"
      },
      "execution_count": 12,
      "outputs": [
        {
          "output_type": "stream",
          "name": "stdout",
          "text": [
            "Initial state of 8Puzzle:\n",
            "[6, 4, 2]\n",
            "[5, 0, 1]\n",
            "[8, 7, 3]\n",
            "\n",
            "Initial State of 15Puzzle:\n",
            "[1, 3, 2, 4]\n",
            "[5, 6, 8, 7]\n",
            "[9, 0, 11, 12]\n",
            "[13, 10, 14, 15]\n",
            "\n",
            "              BFS  aStarH1  aStarH2\n",
            "8Puzzle    116099    12611     1595\n",
            "15Puzzle  >185065    20082     5837\n"
          ]
        }
      ]
    },
    {
      "cell_type": "code",
      "source": [],
      "metadata": {
        "id": "euN9yZuW7cyD"
      },
      "execution_count": null,
      "outputs": []
    }
  ]
}