{
 "cells": [
  {
   "cell_type": "markdown",
   "metadata": {
    "papermill": {
     "duration": 0.006068,
     "end_time": "2022-03-11T00:40:16.625973",
     "exception": false,
     "start_time": "2022-03-11T00:40:16.619905",
     "status": "completed"
    },
    "tags": []
   },
   "source": [
    "# Minimax Algorithm with alpha beta prunning\n",
    "\n",
    "This code is a mix between the Kaggle competition Tutorial and what Keith Galli did in his minimax algorithm in his youtube video about creating a 4Connect app\n",
    "I highly recomed his series: https://www.youtube.com/watch?v=UYgyRArKDEs&list=PLFCB5Dp81iNV_inzM-R9AKkZZlePCZdtV\n",
    "\n",
    "The key is to play around the score you assing to each possition of the board - please refer to his video."
   ]
  },
  {
   "cell_type": "markdown",
   "metadata": {
    "papermill": {
     "duration": 0.004876,
     "end_time": "2022-03-11T00:40:16.636072",
     "exception": false,
     "start_time": "2022-03-11T00:40:16.631196",
     "status": "completed"
    },
    "tags": []
   },
   "source": [
    "Import and load"
   ]
  },
  {
   "cell_type": "code",
   "execution_count": 1,
   "metadata": {
    "_cell_guid": "b1076dfc-b9ad-4769-8c92-a6c4dae69d19",
    "_uuid": "8f2839f25d086af736a60e9eeb907d3b93b6e0e5",
    "execution": {
     "iopub.execute_input": "2022-03-11T00:40:16.652227Z",
     "iopub.status.busy": "2022-03-11T00:40:16.651457Z",
     "iopub.status.idle": "2022-03-11T00:40:16.708159Z",
     "shell.execute_reply": "2022-03-11T00:40:16.707280Z",
     "shell.execute_reply.started": "2022-03-11T00:39:24.025657Z"
    },
    "papermill": {
     "duration": 0.068552,
     "end_time": "2022-03-11T00:40:16.709678",
     "exception": false,
     "start_time": "2022-03-11T00:40:16.641126",
     "status": "completed"
    },
    "tags": []
   },
   "outputs": [
    {
     "name": "stdout",
     "output_type": "stream",
     "text": [
      "/kaggle/input/connectx/kaggle-environments-0.1.4/CONTRIBUTING.md\n",
      "/kaggle/input/connectx/kaggle-environments-0.1.4/LICENSE\n",
      "/kaggle/input/connectx/kaggle-environments-0.1.4/.gitignore\n",
      "/kaggle/input/connectx/kaggle-environments-0.1.4/main.py\n",
      "/kaggle/input/connectx/kaggle-environments-0.1.4/README.md\n",
      "/kaggle/input/connectx/kaggle-environments-0.1.4/MANIFEST.in\n",
      "/kaggle/input/connectx/kaggle-environments-0.1.4/requirements.txt\n",
      "/kaggle/input/connectx/kaggle-environments-0.1.4/.gcloudignore\n",
      "/kaggle/input/connectx/kaggle-environments-0.1.4/setup.py\n",
      "/kaggle/input/connectx/kaggle-environments-0.1.4/kaggle_environments/schemas.json\n",
      "/kaggle/input/connectx/kaggle-environments-0.1.4/kaggle_environments/status_codes.json\n",
      "/kaggle/input/connectx/kaggle-environments-0.1.4/kaggle_environments/core.py\n",
      "/kaggle/input/connectx/kaggle-environments-0.1.4/kaggle_environments/utils.py\n",
      "/kaggle/input/connectx/kaggle-environments-0.1.4/kaggle_environments/errors.py\n",
      "/kaggle/input/connectx/kaggle-environments-0.1.4/kaggle_environments/__init__.py\n",
      "/kaggle/input/connectx/kaggle-environments-0.1.4/kaggle_environments/envs/identity/identity.json\n",
      "/kaggle/input/connectx/kaggle-environments-0.1.4/kaggle_environments/envs/identity/identity.py\n",
      "/kaggle/input/connectx/kaggle-environments-0.1.4/kaggle_environments/envs/tictactoe/test_tictactoe.py\n",
      "/kaggle/input/connectx/kaggle-environments-0.1.4/kaggle_environments/envs/tictactoe/tictactoe.py\n",
      "/kaggle/input/connectx/kaggle-environments-0.1.4/kaggle_environments/envs/tictactoe/tictactoe.json\n",
      "/kaggle/input/connectx/kaggle-environments-0.1.4/kaggle_environments/envs/tictactoe/tictactoe.ipynb\n",
      "/kaggle/input/connectx/kaggle-environments-0.1.4/kaggle_environments/envs/tictactoe/tictactoe.js\n",
      "/kaggle/input/connectx/kaggle-environments-0.1.4/kaggle_environments/envs/connectx/connectx.js\n",
      "/kaggle/input/connectx/kaggle-environments-0.1.4/kaggle_environments/envs/connectx/test_connectx.py\n",
      "/kaggle/input/connectx/kaggle-environments-0.1.4/kaggle_environments/envs/connectx/connectx.json\n",
      "/kaggle/input/connectx/kaggle-environments-0.1.4/kaggle_environments/envs/connectx/connectx.ipynb\n",
      "/kaggle/input/connectx/kaggle-environments-0.1.4/kaggle_environments/envs/connectx/connectx.py\n",
      "/kaggle/input/connectx/kaggle-environments-0.1.4/kaggle_environments/static/player.html\n"
     ]
    }
   ],
   "source": [
    "import os\n",
    "for dirname, _, filenames in os.walk('/kaggle/input'):\n",
    "    for filename in filenames:\n",
    "        print(os.path.join(dirname, filename))"
   ]
  },
  {
   "cell_type": "markdown",
   "metadata": {
    "papermill": {
     "duration": 0.005166,
     "end_time": "2022-03-11T00:40:16.720828",
     "exception": false,
     "start_time": "2022-03-11T00:40:16.715662",
     "status": "completed"
    },
    "tags": []
   },
   "source": [
    "## Code Itself"
   ]
  },
  {
   "cell_type": "code",
   "execution_count": 2,
   "metadata": {
    "execution": {
     "iopub.execute_input": "2022-03-11T00:40:16.735134Z",
     "iopub.status.busy": "2022-03-11T00:40:16.734398Z",
     "iopub.status.idle": "2022-03-11T00:40:16.770808Z",
     "shell.execute_reply": "2022-03-11T00:40:16.771286Z",
     "shell.execute_reply.started": "2022-03-11T00:39:24.049290Z"
    },
    "papermill": {
     "duration": 0.045308,
     "end_time": "2022-03-11T00:40:16.771483",
     "exception": false,
     "start_time": "2022-03-11T00:40:16.726175",
     "status": "completed"
    },
    "tags": []
   },
   "outputs": [],
   "source": [
    "# Agent Little_Pumba\n",
    "\n",
    "#Create a semi cleaver agent\n",
    "\n",
    "def little_agent_pumba(obs, config):\n",
    "    \n",
    "    import numpy as np # linear algebra\n",
    "    import math\n",
    "    import random\n",
    "    \n",
    "    # Check the score of every board\n",
    "    def board_posicion_score(board,piece,config):\n",
    "        score = 0\n",
    "        COL_COUNT = config.columns\n",
    "        ROW_COUNT = config.rows\n",
    "\n",
    "        # Score center\n",
    "        center_array = [int(i) for i in list(board[:,COL_COUNT//2])]\n",
    "        center_count = center_array.count(piece)\n",
    "        score += center_count *2\n",
    "        \n",
    "        # Score Horizontal\n",
    "        for r in range(ROW_COUNT):\n",
    "            row_array = [int(i) for i in board[r,:]]\n",
    "            for c in range(COL_COUNT-(config.inarow-1)):\n",
    "                window = row_array[c:c+config.inarow]\n",
    "                score += evaluate_window(window,piece)\n",
    "\n",
    "        # Score Vertical\n",
    "        for c in range(COL_COUNT):\n",
    "            col_array = [int(i) for i in board[:,c]]\n",
    "            for r in range(ROW_COUNT-(config.inarow-1)):\n",
    "                window = col_array[r:r+config.inarow]\n",
    "                score += evaluate_window(window,piece)\n",
    "\n",
    "        # Score diagonal positive\n",
    "        for r in range(ROW_COUNT-(config.inarow-1)):\n",
    "            for c in range(COL_COUNT-(config.inarow-1)):\n",
    "                window = [board[r+i][c+i] for i in range(config.inarow)]\n",
    "                score += evaluate_window(window,piece)\n",
    "\n",
    "        # Score diagonal negative\n",
    "        for r in range((config.inarow-1),ROW_COUNT):\n",
    "            for c in range(COL_COUNT-(config.inarow-1)):\n",
    "                window = [board[r-i][c+i] for i in range(config.inarow)]\n",
    "                score += evaluate_window(window,piece)\n",
    "        return score\n",
    "\n",
    "    # Simulate the drop of the piece\n",
    "\n",
    "    def drop_piece(board, col, piece, config):\n",
    "        next_grid = board\n",
    "        for row in range(config.rows-1, -1, -1):\n",
    "            if next_grid[row][col] == 0:\n",
    "                break\n",
    "        next_grid[row][col] = piece\n",
    "        return next_grid\n",
    "\n",
    "    # Evaluate the score of each window (Horizontal, Vertical, Positive Diagonal, Negative Diagonal - Tunning this scores you can get better score)\n",
    "    def evaluate_window(window,piece):\n",
    "        score = 0\n",
    "        EMPTY =0\n",
    "        opp_piece=1\n",
    "        if piece == 1:\n",
    "            opp_piece =2\n",
    "\n",
    "        if window.count(piece) == 4:\n",
    "            score += 100\n",
    "        elif window.count(piece) == 3 and window.count(EMPTY) ==1:\n",
    "            score += 15\n",
    "        elif window.count(piece) == 2 and window.count(EMPTY) == 2:\n",
    "            score += 5\n",
    "\n",
    "        if window.count(opp_piece) == 3 and window.count(EMPTY) ==1:\n",
    "            score -= 80\n",
    "\n",
    "        elif window.count(opp_piece) == 2 and window.count(EMPTY) == 2:\n",
    "             score -= 20\n",
    "        return score\n",
    "\n",
    "    # Is it a winning move?\n",
    "    def winning_move(board, player,config):\n",
    "        # Horizontal winning\n",
    "        COL_COUNT = config.columns\n",
    "        ROW_COUNT = config.rows\n",
    "\n",
    "        for c in range(COL_COUNT-(config.inarow-1)):\n",
    "            for r in range(ROW_COUNT):\n",
    "                if [board[r][c+i]== player for i in range(config.inarow)] == [True for j in range(config.inarow)]:\n",
    "\n",
    "                    return True\n",
    "\n",
    "        # Vertical winning\n",
    "        for c in range(COL_COUNT):\n",
    "            for r in range(ROW_COUNT-(config.inarow-1)):\n",
    "                if [board[r+i][c]== player for i in range(config.inarow)] == [True for j in range(config.inarow)]:\n",
    "                    return True\n",
    "\n",
    "        # Positive Diagonal winning\n",
    "        for c in range(COL_COUNT-(config.inarow-1)):\n",
    "            for r in range(ROW_COUNT-(config.inarow-1)):\n",
    "                if [board[r+i][c+i]== player for i in range(config.inarow)] == [True for j in range(config.inarow)]:\n",
    "\n",
    "                    return True\n",
    "\n",
    "        # Negative Diagonal winning\n",
    "        for c in range(COL_COUNT-(config.inarow-1)):\n",
    "            for r in range((config.inarow-1),ROW_COUNT):\n",
    "                if [board[r-i][c+i]== player for i in range(config.inarow)] == [True for j in range(config.inarow)]:\n",
    "\n",
    "                    return True\n",
    "\n",
    "    def is_terminal_node(board,valid_locations,piece,opp_piece,config):\n",
    "        return winning_move(board, opp_piece,config) or winning_move(board, piece,config) or len(valid_locations)==0\n",
    "\n",
    "    # Implemetation of the algorithm\n",
    "    def minimax_algorithm(board,depth,alpha,beta,maxmizingPlayer,obs,config,piece,opp_piece):\n",
    "        valid_locations = [c for c in range(config.columns) if obs.board[c] == 0]\n",
    "\n",
    "        if depth == 0 or is_terminal_node(board,valid_locations,piece,opp_piece,config):\n",
    "            #print(is_terminal_node(board,valid_locations,piece,opp_piece,config))\n",
    "            if is_terminal_node:\n",
    "                if winning_move(board,piece,config):\n",
    "                    return (None, math.inf)\n",
    "                elif winning_move(board,opp_piece,config):\n",
    "                    return(None,-math.inf)\n",
    "                else: \n",
    "                    return (None, board_posicion_score(board,piece,config))\n",
    "\n",
    "        if maxmizingPlayer:\n",
    "            value = -math.inf\n",
    "            best_col = random.choice(valid_locations)\n",
    "            for col in valid_locations:\n",
    "                board_copy = board.copy()\n",
    "                new_board = drop_piece(board_copy,col,piece,config)\n",
    "                new_score = minimax_algorithm(new_board,depth-1,alpha,beta,False,obs,config,piece,opp_piece)[1]\n",
    "                #print('AI -- Col {}, Value {}'.format(col,new_score))\n",
    "                #print(new_board)\n",
    "                if new_score > value:\n",
    "                    value = new_score\n",
    "                    best_col = col\n",
    "                alpha = max(alpha,value)\n",
    "                if alpha >= beta:\n",
    "                    break\n",
    "            return best_col, value\n",
    "\n",
    "        else: # Minimazing player\n",
    "            value = math.inf\n",
    "            best_col = random.choice(valid_locations)\n",
    "            for col in valid_locations:\n",
    "                board_copy = board.copy()\n",
    "                new_board = drop_piece(board_copy,col,opp_piece,config)\n",
    "                new_score =minimax_algorithm(new_board,depth-1,alpha,beta,True,obs,config,piece,opp_piece)[1]\n",
    "                #print('PLAYER -- Col {}, Value {}'.format(col,new_score))\n",
    "                #print(new_board)\n",
    "                if new_score < value:\n",
    "                    value = new_score\n",
    "                    best_col = col\n",
    "                beta = min(beta,value)\n",
    "                if beta <=alpha:\n",
    "                    break\n",
    "\n",
    "            return best_col, value\n",
    "\n",
    "    # Deep level is 2 - For a reason I do not know with a deepness of 2 is working better than with deep = 3\n",
    "    \n",
    "    # Get list of valid moves\n",
    "    valid_moves = [c for c in range(config.columns) if obs.board[c] == 0]\n",
    "    # Convert the board to a 2D grid\n",
    "    grid = np.asarray(obs.board).reshape(config.rows, config.columns)\n",
    "    #print(grid)\n",
    "    piece = obs.mark\n",
    "    opp_piece =1\n",
    "    if piece == 1:\n",
    "        opp_piece=2\n",
    "    \n",
    "    best_col, minmax_score = minimax_algorithm(grid,2,-math.inf,math.inf,True,obs,config,piece,opp_piece)\n",
    "    \n",
    "    return best_col"
   ]
  },
  {
   "cell_type": "code",
   "execution_count": 3,
   "metadata": {
    "execution": {
     "iopub.execute_input": "2022-03-11T00:40:16.785855Z",
     "iopub.status.busy": "2022-03-11T00:40:16.785224Z",
     "iopub.status.idle": "2022-03-11T00:40:16.804457Z",
     "shell.execute_reply": "2022-03-11T00:40:16.803833Z",
     "shell.execute_reply.started": "2022-03-11T00:39:24.094903Z"
    },
    "papermill": {
     "duration": 0.027549,
     "end_time": "2022-03-11T00:40:16.804622",
     "exception": false,
     "start_time": "2022-03-11T00:40:16.777073",
     "status": "completed"
    },
    "tags": []
   },
   "outputs": [
    {
     "name": "stdout",
     "output_type": "stream",
     "text": [
      "<function little_agent_pumba at 0x7f7d3b58fc20> written to ./submission.py\n"
     ]
    }
   ],
   "source": [
    "import inspect\n",
    "import os\n",
    "\n",
    "def write_agent_to_file(function, file):\n",
    "    with open(file, \"a\" if os.path.exists(file) else \"w\") as f:\n",
    "        f.write(inspect.getsource(function))\n",
    "        print(function, \"written to\", file)\n",
    "\n",
    "write_agent_to_file(little_agent_pumba, \"./submission.py\")"
   ]
  }
 ],
 "metadata": {
  "kernelspec": {
   "display_name": "Python 3",
   "language": "python",
   "name": "python3"
  },
  "language_info": {
   "codemirror_mode": {
    "name": "ipython",
    "version": 3
   },
   "file_extension": ".py",
   "mimetype": "text/x-python",
   "name": "python",
   "nbconvert_exporter": "python",
   "pygments_lexer": "ipython3",
   "version": "3.7.9"
  },
  "papermill": {
   "default_parameters": {},
   "duration": 6.735151,
   "end_time": "2022-03-11T00:40:17.318920",
   "environment_variables": {},
   "exception": null,
   "input_path": "__notebook__.ipynb",
   "output_path": "__notebook__.ipynb",
   "parameters": {},
   "start_time": "2022-03-11T00:40:10.583769",
   "version": "2.2.2"
  }
 },
 "nbformat": 4,
 "nbformat_minor": 4
}
