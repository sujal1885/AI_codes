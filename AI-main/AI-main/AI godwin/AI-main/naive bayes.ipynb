{
  "cells": [
    {
      "cell_type": "markdown",
      "metadata": {},
      "source": [
        "Name:Hardik Thakkar\n",
        "\n",
        "Batch:B3\n",
        "\n",
        "Roll no :43\n",
        "\n",
        "Subject:AI LAB"
      ]
    },
    {
      "cell_type": "code",
      "execution_count": null,
      "metadata": {
        "id": "uL6PWWICZLyD"
      },
      "outputs": [],
      "source": [
        "import pandas as pd"
      ]
    },
    {
      "cell_type": "code",
      "execution_count": null,
      "metadata": {
        "id": "0p7-TxUqb4pc"
      },
      "outputs": [],
      "source": [
        "data = pd.DataFrame({\n",
        "    'outlook': ['Sunny', 'Sunny', 'Overcast', 'Rainy', 'Rainy', 'Rainy', 'Overcast', 'Sunny', 'Sunny', 'Rainy', 'Sunny', 'Overcast', 'Overcast', 'Rainy'],\n",
        "    'temp': ['Hot', 'Hot', 'Hot', 'Mild', 'Cool', 'Cool', 'Cool', 'Mild', 'Cool', 'Mild', 'Mild', 'Mild', 'Hot', 'Mild'],\n",
        "    'humidity': ['High', 'High', 'High', 'High', 'Normal', 'Normal', 'Normal', 'High', 'Normal', 'Normal', 'Normal', 'High', 'Normal', 'High'],\n",
        "    'windy': ['False', 'True', 'False', 'False', 'False', 'True', 'True', 'False', 'False', 'False', 'True', 'True', 'False', 'True'],\n",
        "    'play': ['No', 'No', 'Yes', 'Yes', 'Yes', 'No', 'Yes', 'No', 'Yes', 'Yes', 'Yes', 'Yes', 'Yes', 'No']\n",
        "})"
      ]
    },
    {
      "cell_type": "code",
      "execution_count": null,
      "metadata": {
        "id": "1jJmkOSwcD70"
      },
      "outputs": [],
      "source": [
        "# Create a frequncy table from the data\n",
        "\n",
        "outlook = data.groupby(['outlook', 'play']).size()\n",
        "temp = data.groupby(['temp', 'play']).size()\n",
        "humidity = data.groupby(['humidity', 'play']).size()\n",
        "windy = data.groupby(['windy', 'play']).size()\n",
        "play = data.play.value_counts()"
      ]
    },
    {
      "cell_type": "code",
      "execution_count": null,
      "metadata": {
        "colab": {
          "base_uri": "https://localhost:8080/"
        },
        "id": "5WxjIFfjcKBT",
        "outputId": "1e8e2b11-83f0-4123-fa83-4c6182dab876"
      },
      "outputs": [
        {
          "name": "stdout",
          "output_type": "stream",
          "text": [
            "temp  play\n",
            "Cool  No      1\n",
            "      Yes     3\n",
            "Hot   No      2\n",
            "      Yes     2\n",
            "Mild  No      2\n",
            "      Yes     4\n",
            "dtype: int64\n",
            "------------------\n",
            "humidity  play\n",
            "High      No      4\n",
            "          Yes     3\n",
            "Normal    No      1\n",
            "          Yes     6\n",
            "dtype: int64\n",
            "------------------\n",
            "windy  play\n",
            "False  No      2\n",
            "       Yes     6\n",
            "True   No      3\n",
            "       Yes     3\n",
            "dtype: int64\n",
            "------------------\n",
            "outlook   play\n",
            "Overcast  Yes     4\n",
            "Rainy     No      2\n",
            "          Yes     3\n",
            "Sunny     No      3\n",
            "          Yes     2\n",
            "dtype: int64\n",
            "------------------\n",
            "play\n",
            "Yes    9\n",
            "No     5\n",
            "Name: play, dtype: int64\n"
          ]
        }
      ],
      "source": [
        "# Display the created frequency table\n",
        "\n",
        "print(temp)\n",
        "print('------------------')\n",
        "print(humidity)\n",
        "print('------------------')\n",
        "print(windy)\n",
        "print('------------------')\n",
        "print(outlook)\n",
        "print('------------------')\n",
        "print('play')\n",
        "print(play)"
      ]
    },
    {
      "cell_type": "code",
      "execution_count": null,
      "metadata": {
        "id": "BCpyMoNnck-b"
      },
      "outputs": [],
      "source": [
        "# Calculate the total probability to be used later\n",
        "\n",
        "total_y = play[\"Yes\"]\n",
        "total_n = play[\"No\"]\n",
        "\n",
        "play_total = total_y + total_n"
      ]
    },
    {
      "cell_type": "code",
      "execution_count": null,
      "metadata": {
        "id": "u7aADK6jc0OD"
      },
      "outputs": [],
      "source": [
        "def find_prob(outlook_val, temp_val, humidity_val, windy_val, play_val):\n",
        "    p_outlook_play = outlook[outlook_val][play_val] / play[play_val]\n",
        "    p_temp_play = temp[temp_val][play_val] / play[play_val]\n",
        "    p_humidity_play = humidity[humidity_val][play_val] / play[play_val]\n",
        "    p_windy_play = windy[windy_val][play_val] / play[play_val]\n",
        "    p_play = play[play_val] / play_total\n",
        "\n",
        "    print(\"Probabilty for Class \",play_val)\n",
        "    print(\"Probability of playing given outlook:\", p_outlook_play)\n",
        "    print(\"Probability of playing given temp:\", p_temp_play)\n",
        "    print(\"Probability of playing given humidity:\", p_humidity_play)\n",
        "    print(\"Probability of playing given windy:\", p_windy_play)\n",
        "    print(\"Overall probability of playing:\", p_play)\n",
        "    print()\n",
        "\n",
        "    prob = p_outlook_play * p_temp_play * p_humidity_play * p_windy_play * p_play\n",
        "    return prob"
      ]
    },
    {
      "cell_type": "code",
      "execution_count": null,
      "metadata": {
        "id": "ZYxAdQe0dGbK"
      },
      "outputs": [],
      "source": [
        "def pred_play(outlook_val, temp_val, humidity_val, windy_val):\n",
        "    prob_yes = find_prob(outlook_val, temp_val, humidity_val, windy_val, \"Yes\")\n",
        "    prob_no = find_prob(outlook_val, temp_val, humidity_val, windy_val, \"No\")\n",
        "\n",
        "    print()\n",
        "    print(\"Probability that you should play Tennis: \", prob_yes)\n",
        "    print(\"Probability that you should not play Tennis: \", prob_no)\n",
        "\n",
        "    if prob_yes > prob_no:\n",
        "        print(\"You should play Tennis today! :)\")\n",
        "    else:\n",
        "        print(\"You should not play Tennis today! :(\")"
      ]
    },
    {
      "cell_type": "code",
      "execution_count": null,
      "metadata": {
        "colab": {
          "base_uri": "https://localhost:8080/"
        },
        "id": "jl_hZv2IdMkC",
        "outputId": "ef61cb92-3344-4b3d-b157-d686e104f75c"
      },
      "outputs": [
        {
          "name": "stdout",
          "output_type": "stream",
          "text": [
            "Probabilty for Class  Yes\n",
            "Probability of playing given outlook: 0.2222222222222222\n",
            "Probability of playing given temp: 0.2222222222222222\n",
            "Probability of playing given humidity: 0.6666666666666666\n",
            "Probability of playing given windy: 0.6666666666666666\n",
            "Overall probability of playing: 0.6428571428571429\n",
            "\n",
            "Probabilty for Class  No\n",
            "Probability of playing given outlook: 0.6\n",
            "Probability of playing given temp: 0.4\n",
            "Probability of playing given humidity: 0.2\n",
            "Probability of playing given windy: 0.4\n",
            "Overall probability of playing: 0.35714285714285715\n",
            "\n",
            "\n",
            "Probability that you should play Tennis:  0.014109347442680773\n",
            "Probability that you should not play Tennis:  0.006857142857142858\n",
            "You should play Tennis today! :)\n"
          ]
        }
      ],
      "source": [
        "# Making predictions on weather conditions\n",
        "\n",
        "outlook_value = 'Sunny'\n",
        "temp_value = 'Hot'\n",
        "humidity_value = 'Normal'\n",
        "windy_value = 'False'\n",
        "\n",
        "pred_play(outlook_value, temp_value, humidity_value, windy_value)"
      ]
    },
    {
      "cell_type": "code",
      "execution_count": null,
      "metadata": {
        "id": "AmYW4mEufGTa"
      },
      "outputs": [],
      "source": []
    }
  ],
  "metadata": {
    "colab": {
      "provenance": []
    },
    "kernelspec": {
      "display_name": "Python 3",
      "name": "python3"
    },
    "language_info": {
      "name": "python"
    }
  },
  "nbformat": 4,
  "nbformat_minor": 0
}
