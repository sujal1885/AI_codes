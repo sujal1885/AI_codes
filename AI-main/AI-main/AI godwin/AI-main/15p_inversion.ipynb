{
  "nbformat": 4,
  "nbformat_minor": 0,
  "metadata": {
    "colab": {
      "provenance": []
    },
    "kernelspec": {
      "name": "python3",
      "display_name": "Python 3"
    },
    "language_info": {
      "name": "python"
    }
  },
  "cells": [
    {
      "cell_type": "markdown",
      "source": [
        "Write a program to implement 15 puzzel using breadth first search"
      ],
      "metadata": {
        "id": "fVlwZIk8CJJ3"
      }
    },
    {
      "cell_type": "code",
      "source": [],
      "metadata": {
        "id": "I1AzMl-GQ1t1"
      },
      "execution_count": null,
      "outputs": []
    },
    {
      "cell_type": "code",
      "source": [
        "from collections import deque\n",
        "\n",
        "def print_grid(state):\n",
        "    for i in range(0, 16, 4):\n",
        "        print(state[i:i+4])\n",
        "    print()\n",
        "\n",
        "def bfs(initial_state, goal_state):\n",
        "  if inversions(initial_state, goal_state):\n",
        "      print(\"It is solvable\")\n",
        "      queue = deque([(initial_state, 0)])\n",
        "      explored = set()\n",
        "\n",
        "      while queue:\n",
        "          current_state, depth = queue.popleft()\n",
        "          explored.add(tuple(current_state))\n",
        "\n",
        "          print(\"Depth:\", depth)\n",
        "          print_grid(current_state)\n",
        "\n",
        "          if current_state == goal_state:\n",
        "              print(\"SUCCESS\")\n",
        "              return\n",
        "\n",
        "          for move in possible_moves(current_state, explored):\n",
        "              queue.append((move, depth + 1))\n",
        "  else:\n",
        "      print(\"It is not solvable\")\n",
        "\n",
        "\n",
        "\n",
        "def possible_moves(state, visited_states):\n",
        "    # Blank\n",
        "    b = state.index(0)\n",
        "\n",
        "    # Directions\n",
        "    d = []\n",
        "\n",
        "    # Possible directions\n",
        "    if b not in [0, 1, 2, 3]:\n",
        "        d.append('u')\n",
        "    if b not in [12, 13, 14, 15]:\n",
        "        d.append('d')\n",
        "    if b not in [0, 4, 8, 12]:\n",
        "        d.append('l')\n",
        "    if b not in [3, 7, 11, 15]:\n",
        "        d.append('r')\n",
        "\n",
        "\n",
        "    pos_move_can = [gen(state, i, b) for i in d]\n",
        "\n",
        "    return [move_can for move_can in pos_move_can if tuple(move_can) not in visited_states]\n",
        "\n",
        "def inversions(initial_state, goal_state):\n",
        "  goal_sum=0\n",
        "  initial_sum=0\n",
        "  len_g=len(goal_state)\n",
        "  for i in range(len_g):\n",
        "    count=0\n",
        "    for j in range(i+1,len_g):\n",
        "      if goal_state[j]!=0 and goal_state[j]<goal_state[i]:\n",
        "        count+=1\n",
        "    goal_sum+=count\n",
        "\n",
        "  for i in range(len_g):\n",
        "    count=0\n",
        "    for j in range(i+1,len_g):\n",
        "      if initial_state[j]!=0 and initial_state[j]<initial_state[i]:\n",
        "        count+=1\n",
        "    # print(count)\n",
        "    initial_sum+=count\n",
        "  print(\"Inversion count:\",initial_sum)\n",
        "  if goal_sum%2==initial_sum%2:\n",
        "    return True\n",
        "  else:\n",
        "    return False\n",
        "\n",
        "def gen(state, m, b):\n",
        "    temp = state.copy()\n",
        "\n",
        "    if m == 'd':\n",
        "        temp[b + 4], temp[b] = temp[b], temp[b + 4]\n",
        "    elif m == 'u':\n",
        "        temp[b - 4], temp[b] = temp[b], temp[b - 4]\n",
        "    elif m == 'l':\n",
        "        temp[b - 1], temp[b] = temp[b], temp[b - 1]\n",
        "    elif m == 'r':\n",
        "        temp[b + 1], temp[b] = temp[b], temp[b + 1]\n",
        "\n",
        "    return temp\n",
        "\n",
        "initial_state = [1,2,3,4,5,6,7,8,9,10,11,12,13,14,0,15]\n",
        "goal_state = [1,2,3,4,5,6,7,8,9,10,11,12,13,14,15,0]\n",
        "\n",
        "bfs(initial_state, goal_state)\n"
      ],
      "metadata": {
        "colab": {
          "base_uri": "https://localhost:8080/"
        },
        "id": "87e7m48iPNpx",
        "outputId": "649dea7d-a0c4-44fb-eada-dccfb148d3dd"
      },
      "execution_count": 3,
      "outputs": [
        {
          "output_type": "stream",
          "name": "stdout",
          "text": [
            "Inversion count: 0\n",
            "It is solvable\n",
            "Depth: 0\n",
            "[1, 2, 3, 4]\n",
            "[5, 6, 7, 8]\n",
            "[9, 10, 11, 12]\n",
            "[13, 14, 0, 15]\n",
            "\n",
            "Depth: 1\n",
            "[1, 2, 3, 4]\n",
            "[5, 6, 7, 8]\n",
            "[9, 10, 0, 12]\n",
            "[13, 14, 11, 15]\n",
            "\n",
            "Depth: 1\n",
            "[1, 2, 3, 4]\n",
            "[5, 6, 7, 8]\n",
            "[9, 10, 11, 12]\n",
            "[13, 0, 14, 15]\n",
            "\n",
            "Depth: 1\n",
            "[1, 2, 3, 4]\n",
            "[5, 6, 7, 8]\n",
            "[9, 10, 11, 12]\n",
            "[13, 14, 15, 0]\n",
            "\n",
            "SUCCESS\n"
          ]
        }
      ]
    },
    {
      "cell_type": "code",
      "source": [
        "initial_state = [1,2,3,4,5,6,7,8,9,11,10,12,13,14,0,15]\n",
        "goal_state = [1,2,3,4,5,6,7,8,9,10,11,12,13,14,15,0]\n",
        "\n",
        "bfs(initial_state, goal_state)"
      ],
      "metadata": {
        "id": "QCdO37KHoal-",
        "colab": {
          "base_uri": "https://localhost:8080/"
        },
        "outputId": "fd19ac90-1e7d-4274-c2f6-a6ee97dbb8e7"
      },
      "execution_count": 4,
      "outputs": [
        {
          "output_type": "stream",
          "name": "stdout",
          "text": [
            "Inversion count: 1\n",
            "It is not solvable\n"
          ]
        }
      ]
    },
    {
      "cell_type": "code",
      "source": [],
      "metadata": {
        "id": "K2Oih4nrSKMJ"
      },
      "execution_count": null,
      "outputs": []
    }
  ]
}