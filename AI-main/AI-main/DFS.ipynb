{
  "nbformat": 4,
  "nbformat_minor": 0,
  "metadata": {
    "colab": {
      "provenance": []
    },
    "kernelspec": {
      "name": "python3",
      "display_name": "Python 3"
    },
    "language_info": {
      "name": "python"
    }
  },
  "cells": [
    {
      "cell_type": "code",
      "execution_count": 1,
      "metadata": {
        "colab": {
          "base_uri": "https://localhost:8080/"
        },
        "id": "hmO-HEMMpbgb",
        "outputId": "7533aa52-16f9-479d-e20e-7cb0a239b3b1"
      },
      "outputs": [
        {
          "output_type": "stream",
          "name": "stdout",
          "text": [
            "DFS traversal starting from vertex 2:\n",
            "Visited Node: 2\n",
            "Visited Node: 0\n",
            "Visited Node: 1\n",
            "Visited Node: 3\n"
          ]
        }
      ],
      "source": [
        "from collections import defaultdict\n",
        "\n",
        "class Graph:\n",
        "    def __init__(self):\n",
        "        self.graph = defaultdict(list)\n",
        "\n",
        "    def add_edge(self, u, v):\n",
        "        self.graph[u].append(v)\n",
        "\n",
        "    def dfs_util(self, node, visited):\n",
        "        visited.add(node)\n",
        "        print(f\"Visited Node: {node}\")\n",
        "\n",
        "        for neighbor in self.graph[node]:\n",
        "            if neighbor not in visited:\n",
        "                self.dfs_util(neighbor, visited)\n",
        "\n",
        "    def dfs(self, start):\n",
        "        visited = set()\n",
        "        self.dfs_util(start, visited)\n",
        "\n",
        "# Example usage:\n",
        "# Creating a graph\n",
        "g = Graph()\n",
        "g.add_edge(0, 1)\n",
        "g.add_edge(0, 2)\n",
        "g.add_edge(1, 2)\n",
        "g.add_edge(2, 0)\n",
        "g.add_edge(2, 3)\n",
        "g.add_edge(3, 3)\n",
        "\n",
        "print(\"DFS traversal starting from vertex 2:\")\n",
        "g.dfs(2)\n"
      ]
    }
  ]
}