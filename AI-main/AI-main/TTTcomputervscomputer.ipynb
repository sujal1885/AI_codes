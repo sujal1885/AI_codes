{
  "nbformat": 4,
  "nbformat_minor": 0,
  "metadata": {
    "colab": {
      "provenance": []
    },
    "kernelspec": {
      "name": "python3",
      "display_name": "Python 3"
    },
    "language_info": {
      "name": "python"
    }
  },
  "cells": [
    {
      "cell_type": "code",
      "execution_count": 6,
      "metadata": {
        "colab": {
          "base_uri": "https://localhost:8080/"
        },
        "id": "FFzemYB5VQIs",
        "outputId": "11319182-d8ae-4ab2-a25b-46a70a57ac27"
      },
      "outputs": [
        {
          "output_type": "stream",
          "name": "stdout",
          "text": [
            "Welcome to Tic Tac Toe!\n",
            "  |   |  \n",
            "-----\n",
            "  |   |  \n",
            "-----\n",
            "  |   |  \n",
            "-----\n",
            "Player X's turn:\n",
            "  |   |  \n",
            "-----\n",
            "X |   |  \n",
            "-----\n",
            "  |   |  \n",
            "-----\n",
            "Player O's turn:\n",
            "  |   |  \n",
            "-----\n",
            "X |   |  \n",
            "-----\n",
            "  |   | O\n",
            "-----\n",
            "Player X's turn:\n",
            "  |   |  \n",
            "-----\n",
            "X |   |  \n",
            "-----\n",
            "X |   | O\n",
            "-----\n",
            "Player O's turn:\n",
            "  |   |  \n",
            "-----\n",
            "X |   |  \n",
            "-----\n",
            "X | O | O\n",
            "-----\n",
            "Player X's turn:\n",
            "X |   |  \n",
            "-----\n",
            "X |   |  \n",
            "-----\n",
            "X | O | O\n",
            "-----\n",
            "Player X wins!\n"
          ]
        }
      ],
      "source": [
        "import random\n",
        "\n",
        "def print_board(board):\n",
        "    for row in board:\n",
        "        print(\" | \".join(row))\n",
        "        print(\"-\" * 5)\n",
        "\n",
        "def check_winner(board):\n",
        "    # Check rows\n",
        "    for row in board:\n",
        "        if all(cell == row[0] for cell in row) and row[0] != \" \":\n",
        "            return True\n",
        "\n",
        "    # Check columns\n",
        "    for col in range(3):\n",
        "        if all(board[row][col] == board[0][col] for row in range(3)) and board[0][col] != \" \":\n",
        "            return True\n",
        "\n",
        "    # Check diagonals\n",
        "    if board[0][0] == board[1][1] == board[2][2] != \" \":\n",
        "        return True\n",
        "    if board[0][2] == board[1][1] == board[2][0] != \" \":\n",
        "        return True\n",
        "\n",
        "    return False\n",
        "\n",
        "def computer_move(board, player):\n",
        "    # Take a random move\n",
        "    empty_cells = [(row, col) for row in range(3) for col in range(3) if board[row][col] == \" \"]\n",
        "    if empty_cells:\n",
        "        row, col = random.choice(empty_cells)\n",
        "        board[row][col] = player\n",
        "\n",
        "def tic_tac_toe():\n",
        "    board = [[\" \" for _ in range(3)] for _ in range(3)]\n",
        "\n",
        "    print(\"Welcome to Tic Tac Toe!\")\n",
        "    print_board(board)\n",
        "\n",
        "    players = [\"X\", \"O\"]\n",
        "    current_player = random.choice(players)\n",
        "\n",
        "    while True:\n",
        "        print(f\"Player {current_player}'s turn:\")\n",
        "\n",
        "        computer_move(board, current_player)\n",
        "\n",
        "        if check_winner(board):\n",
        "            print_board(board)\n",
        "            print(f\"Player {current_player} wins!\")\n",
        "            break\n",
        "\n",
        "        if all(cell != \" \" for row in board for cell in row):\n",
        "            print_board(board)\n",
        "            print(\"It's a tie!\")\n",
        "            break\n",
        "\n",
        "        print_board(board)\n",
        "\n",
        "        current_player = \"X\" if current_player == \"O\" else \"O\"  # Switch players\n",
        "\n",
        "if __name__ == \"__main__\":\n",
        "    tic_tac_toe()\n"
      ]
    },
    {
      "cell_type": "code",
      "source": [],
      "metadata": {
        "id": "W_-g5-wYXhLe"
      },
      "execution_count": null,
      "outputs": []
    }
  ]
}