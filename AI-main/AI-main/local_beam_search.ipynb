{
  "nbformat": 4,
  "nbformat_minor": 0,
  "metadata": {
    "colab": {
      "provenance": []
    },
    "kernelspec": {
      "name": "python3",
      "display_name": "Python 3"
    },
    "language_info": {
      "name": "python"
    }
  },
  "cells": [
    {
      "cell_type": "code",
      "execution_count": 4,
      "metadata": {
        "colab": {
          "base_uri": "https://localhost:8080/"
        },
        "id": "YyWsyjmw4iAe",
        "outputId": "7290dad8-b658-4a02-ac0b-e3b04de11d01"
      },
      "outputs": [
        {
          "output_type": "stream",
          "name": "stdout",
          "text": [
            "Solution found: (7, 2, 0, 2, 7, 5, 3, 1)\n"
          ]
        }
      ],
      "source": [
        "import random\n",
        "\n",
        "def local_beam_search(initial_states, goal_test, generate_successors, beam_width, max_iterations):\n",
        "    current_states = initial_states\n",
        "    for _ in range(max_iterations):\n",
        "        next_states = []\n",
        "        for state in current_states:\n",
        "            if goal_test(state):\n",
        "                return state  # Goal state found\n",
        "            successors = generate_successors(state)\n",
        "            next_states.extend(random.sample(successors, min(len(successors), beam_width)))\n",
        "        current_states = next_states\n",
        "    return None  # Goal state not found within max_iterations\n",
        "\n",
        "# Example implementation of local beam search for the 8-queens problem\n",
        "def goal_test(state):\n",
        "    return len(set(state[i] + i for i in range(len(state)))) == len(state) and len(set(state[i] - i for i in range(len(state)))) == len(state)\n",
        "\n",
        "def generate_successors(state):\n",
        "    successors = []\n",
        "    for col in range(len(state)):\n",
        "        for row in range(len(state)):\n",
        "            if row != state[col]:\n",
        "                new_state = list(state)\n",
        "                new_state[col] = row\n",
        "                successors.append(tuple(new_state))\n",
        "    return successors\n",
        "\n",
        "# Initialize random states for the local beam search\n",
        "initial_states = [tuple(random.sample(range(8), 8)) for _ in range(5)]\n",
        "\n",
        "# Perform local beam search\n",
        "beam_width = 3\n",
        "max_iterations = 100\n",
        "solution = local_beam_search(initial_states, goal_test, generate_successors, beam_width, max_iterations)\n",
        "\n",
        "if solution:\n",
        "    print(\"Solution found:\", solution)\n",
        "else:\n",
        "    print(\"No solution found within max_iterations.\")\n"
      ]
    },
    {
      "cell_type": "code",
      "source": [],
      "metadata": {
        "id": "WTwZC7_B4pdx"
      },
      "execution_count": null,
      "outputs": []
    }
  ]
}